{
 "cells": [
  {
   "cell_type": "code",
   "execution_count": 217,
   "metadata": {
    "collapsed": true,
    "scrolled": true
   },
   "outputs": [],
   "source": [
    "import pandas as pd\n",
    "import os.path"
   ]
  },
  {
   "cell_type": "code",
   "execution_count": 218,
   "metadata": {},
   "outputs": [
    {
     "name": "stdout",
     "output_type": "stream",
     "text": [
      "Using Python parser to sniff delimiter\n"
     ]
    }
   ],
   "source": [
    "data = pd.read_csv(\"/home/alice/Documents/Project/info_extraction/data/doc_information _all_s_ BIS_r2.csv\", sep=None)"
   ]
  },
  {
   "cell_type": "code",
   "execution_count": 219,
   "metadata": {},
   "outputs": [
    {
     "data": {
      "text/plain": [
       "(3997, 25)"
      ]
     },
     "execution_count": 219,
     "metadata": {},
     "output_type": "execute_result"
    }
   ],
   "source": [
    "data.shape"
   ]
  },
  {
   "cell_type": "code",
   "execution_count": 220,
   "metadata": {},
   "outputs": [
    {
     "data": {
      "text/plain": [
       "Index(['Unnamed: 0', 'id.of.documents', 'country', 'appeal.code', 'date.of.document', 'CTP', 'Number.of.beneficiaries', 'CTP.budget', 'Number.of.CTP.beneficiaries', 'CTP.budget.source', 'Budget.relief.items..construction.and.supplies', 'Budget.relief.fields.names', 'CTP.extract.1', 'CTP.extract.2', 'CTP.extract.3', 'Appeal', 'DREF', 'name', 'document.name', 'file.name', 'url', 'url.status', 'glide.number', 'type.of.event', 'date.of.event'], dtype='object')"
      ]
     },
     "execution_count": 220,
     "metadata": {},
     "output_type": "execute_result"
    }
   ],
   "source": [
    "data.columns"
   ]
  },
  {
   "cell_type": "code",
   "execution_count": 221,
   "metadata": {},
   "outputs": [
    {
     "data": {
      "text/plain": [
       "0      - Global - 010198 01Jan1998.pdf\n",
       "1      - Global - 010199 01Jan1999.pdf\n",
       "2      - Global - 010298 01Jan1998.pdf\n",
       "3      - Global - 010299 01Jan1999.pdf\n",
       "4      - Global - 010398 01Jan1998.pdf\n",
       "5      - Global - 010498 01Jan1998.pdf\n",
       "6     - Global - 0110003 01Sep2003.pdf\n",
       "7     - Global - 0110004 01Jan2004.pdf\n",
       "8     - Global - 0110103 01Jun2003.pdf\n",
       "9     - Global - 0110104 01Jan2004.pdf\n",
       "10    - Global - 0110203 01Sep2003.pdf\n",
       "11    - Global - 0110204 01Jan2004.pdf\n",
       "12    - Global - 0110303 01Sep2003.pdf\n",
       "13    - Global - 0110304 21Jul2004.pdf\n",
       "14     - Global - 012598 01Jan1998.pdf\n",
       "...\n",
       "785    Central African Republic MDRCF017 25Feb2014.pdf\n",
       "786    Central African Republic MDRCF018 01May2015.pdf\n",
       "787    Central African Republic MDRCF018 27Mar2015.pdf\n",
       "788    Central African Republic MDRCF018 27Nov2014.pdf\n",
       "789    Central African Republic MDRCF018 30Aug2014.pdf\n",
       "790    Central African Republic MDRCF019 12Aug2015.pdf\n",
       "791    Central African Republic MDRCF019 14May2015.pdf\n",
       "792    Central African Republic MDRCF019 27Nov2015.pdf\n",
       "793    Central African Republic MDRCF019 30Mar2016.pdf\n",
       "794    Central African Republic MDRCF020 19Feb2016.pdf\n",
       "795    Central African Republic MDRCF020 21Apr2016.pdf\n",
       "796    Central Europe and Balkans 013498 01Jan1998.pdf\n",
       "797    Central Europe and Balkans 013699 01Jan1999.pdf\n",
       "798    Central Europe and Balkans 013999 01Jan1999.pdf\n",
       "799    Central Europe and Balkans 014202 01Jan2002.pdf\n",
       "Name: file.name, Length: 800, dtype: object"
      ]
     },
     "execution_count": 221,
     "metadata": {},
     "output_type": "execute_result"
    }
   ],
   "source": [
    "data[\"file.name\"].head(800)"
   ]
  },
  {
   "cell_type": "code",
   "execution_count": null,
   "metadata": {
    "collapsed": true
   },
   "outputs": [],
   "source": []
  },
  {
   "cell_type": "code",
   "execution_count": 222,
   "metadata": {
    "collapsed": true
   },
   "outputs": [],
   "source": [
    "sample = data.head(2)"
   ]
  },
  {
   "cell_type": "code",
   "execution_count": 223,
   "metadata": {},
   "outputs": [
    {
     "data": {
      "text/html": [
       "<div style=\"max-height:1000px;max-width:1500px;overflow:auto;\">\n",
       "<table border=\"1\" class=\"dataframe\">\n",
       "  <thead>\n",
       "    <tr style=\"text-align: right;\">\n",
       "      <th></th>\n",
       "      <th>Unnamed: 0</th>\n",
       "      <th>id.of.documents</th>\n",
       "      <th>country</th>\n",
       "      <th>appeal.code</th>\n",
       "      <th>date.of.document</th>\n",
       "      <th>CTP</th>\n",
       "      <th>Number.of.beneficiaries</th>\n",
       "      <th>CTP.budget</th>\n",
       "      <th>Number.of.CTP.beneficiaries</th>\n",
       "      <th>CTP.budget.source</th>\n",
       "      <th>Budget.relief.items..construction.and.supplies</th>\n",
       "      <th>Budget.relief.fields.names</th>\n",
       "      <th>CTP.extract.1</th>\n",
       "      <th>CTP.extract.2</th>\n",
       "      <th>CTP.extract.3</th>\n",
       "      <th>Appeal</th>\n",
       "      <th>DREF</th>\n",
       "      <th>name</th>\n",
       "      <th>document.name</th>\n",
       "      <th>file.name</th>\n",
       "      <th></th>\n",
       "    </tr>\n",
       "  </thead>\n",
       "  <tbody>\n",
       "    <tr>\n",
       "      <th>0</th>\n",
       "      <td> 1</td>\n",
       "      <td> - Global - 010198 01Jan1998.txt</td>\n",
       "      <td> - Global -</td>\n",
       "      <td> 010198</td>\n",
       "      <td> 01Jan1998</td>\n",
       "      <td> no</td>\n",
       "      <td>NaN</td>\n",
       "      <td> NaN</td>\n",
       "      <td> 0</td>\n",
       "      <td> NaN</td>\n",
       "      <td> NaN</td>\n",
       "      <td> NaN</td>\n",
       "      <td> NaN</td>\n",
       "      <td> NaN</td>\n",
       "      <td> NaN</td>\n",
       "      <td> True</td>\n",
       "      <td> False</td>\n",
       "      <td> Disaster Relief Emergency Fund - appeal 1998 (...</td>\n",
       "      <td> Annual appeal</td>\n",
       "      <td> - Global - 010198 01Jan1998.pdf</td>\n",
       "      <td>...</td>\n",
       "    </tr>\n",
       "    <tr>\n",
       "      <th>1</th>\n",
       "      <td> 2</td>\n",
       "      <td> - Global - 010199 01Jan1999.txt</td>\n",
       "      <td> - Global -</td>\n",
       "      <td> 010199</td>\n",
       "      <td> 01Jan1999</td>\n",
       "      <td> no</td>\n",
       "      <td>NaN</td>\n",
       "      <td> NaN</td>\n",
       "      <td> 0</td>\n",
       "      <td> NaN</td>\n",
       "      <td> NaN</td>\n",
       "      <td> NaN</td>\n",
       "      <td> NaN</td>\n",
       "      <td> NaN</td>\n",
       "      <td> NaN</td>\n",
       "      <td> True</td>\n",
       "      <td> False</td>\n",
       "      <td> Disaster Relief Emergency Fund - appeal 1999 (...</td>\n",
       "      <td> Annual appeal</td>\n",
       "      <td> - Global - 010199 01Jan1999.pdf</td>\n",
       "      <td>...</td>\n",
       "    </tr>\n",
       "  </tbody>\n",
       "</table>\n",
       "<p>2 rows × 25 columns</p>\n",
       "</div>"
      ],
      "text/plain": [
       "   Unnamed: 0                  id.of.documents     country appeal.code  \\\n",
       "0           1  - Global - 010198 01Jan1998.txt  - Global -      010198   \n",
       "1           2  - Global - 010199 01Jan1999.txt  - Global -      010199   \n",
       "\n",
       "  date.of.document CTP  Number.of.beneficiaries CTP.budget  \\\n",
       "0        01Jan1998  no                      NaN        NaN   \n",
       "1        01Jan1999  no                      NaN        NaN   \n",
       "\n",
       "   Number.of.CTP.beneficiaries CTP.budget.source  \\\n",
       "0                            0               NaN   \n",
       "1                            0               NaN   \n",
       "\n",
       "  Budget.relief.items..construction.and.supplies Budget.relief.fields.names  \\\n",
       "0                                            NaN                        NaN   \n",
       "1                                            NaN                        NaN   \n",
       "\n",
       "  CTP.extract.1 CTP.extract.2 CTP.extract.3 Appeal   DREF  \\\n",
       "0           NaN           NaN           NaN   True  False   \n",
       "1           NaN           NaN           NaN   True  False   \n",
       "\n",
       "                                                name  document.name  \\\n",
       "0  Disaster Relief Emergency Fund - appeal 1998 (...  Annual appeal   \n",
       "1  Disaster Relief Emergency Fund - appeal 1999 (...  Annual appeal   \n",
       "\n",
       "                         file.name      \n",
       "0  - Global - 010198 01Jan1998.pdf ...  \n",
       "1  - Global - 010199 01Jan1999.pdf ...  \n",
       "\n",
       "[2 rows x 25 columns]"
      ]
     },
     "execution_count": 223,
     "metadata": {},
     "output_type": "execute_result"
    }
   ],
   "source": [
    "sample"
   ]
  },
  {
   "cell_type": "code",
   "execution_count": 224,
   "metadata": {
    "collapsed": true
   },
   "outputs": [],
   "source": [
    "new_CTP = data.loc[(data[\"CTP\"]==\"yes\")]"
   ]
  },
  {
   "cell_type": "code",
   "execution_count": 225,
   "metadata": {},
   "outputs": [
    {
     "data": {
      "text/plain": [
       "(404, 25)"
      ]
     },
     "execution_count": 225,
     "metadata": {},
     "output_type": "execute_result"
    }
   ],
   "source": [
    "new_CTP.shape"
   ]
  },
  {
   "cell_type": "code",
   "execution_count": null,
   "metadata": {},
   "outputs": [],
   "source": []
  },
  {
   "cell_type": "code",
   "execution_count": 226,
   "metadata": {},
   "outputs": [
    {
     "data": {
      "text/plain": [
       "Index(['Unnamed: 0', 'id.of.documents', 'country', 'appeal.code', 'date.of.document', 'CTP', 'Number.of.beneficiaries', 'CTP.budget', 'Number.of.CTP.beneficiaries', 'CTP.budget.source', 'Budget.relief.items..construction.and.supplies', 'Budget.relief.fields.names', 'CTP.extract.1', 'CTP.extract.2', 'CTP.extract.3', 'Appeal', 'DREF', 'name', 'document.name', 'file.name', 'url', 'url.status', 'glide.number', 'type.of.event', 'date.of.event'], dtype='object')"
      ]
     },
     "execution_count": 226,
     "metadata": {},
     "output_type": "execute_result"
    }
   ],
   "source": [
    "new_CTP.columns"
   ]
  },
  {
   "cell_type": "code",
   "execution_count": 227,
   "metadata": {},
   "outputs": [
    {
     "data": {
      "text/plain": [
       "0"
      ]
     },
     "execution_count": 227,
     "metadata": {},
     "output_type": "execute_result"
    }
   ],
   "source": [
    "sum(data.CTP.isnull())"
   ]
  },
  {
   "cell_type": "code",
   "execution_count": 228,
   "metadata": {},
   "outputs": [],
   "source": [
    "#data[\"CTP\"]"
   ]
  },
  {
   "cell_type": "code",
   "execution_count": null,
   "metadata": {},
   "outputs": [],
   "source": []
  },
  {
   "cell_type": "code",
   "execution_count": null,
   "metadata": {},
   "outputs": [],
   "source": []
  },
  {
   "cell_type": "code",
   "execution_count": null,
   "metadata": {
    "collapsed": true
   },
   "outputs": [],
   "source": []
  },
  {
   "cell_type": "code",
   "execution_count": 230,
   "metadata": {},
   "outputs": [
    {
     "name": "stdout",
     "output_type": "stream",
     "text": [
      "404\n"
     ]
    }
   ],
   "source": [
    "l =[]\n",
    "for i in data[\"CTP\"]:\n",
    "    if i == \"yes\":\n",
    "        l.append(i)\n",
    "print(len(l))"
   ]
  },
  {
   "cell_type": "code",
   "execution_count": 231,
   "metadata": {},
   "outputs": [],
   "source": [
    "real_data = os.chdir(\"/home/alice/Documents/Project/info_extraction/scraped_data/files_in_txt/\")"
   ]
  },
  {
   "cell_type": "code",
   "execution_count": 157,
   "metadata": {},
   "outputs": [
    {
     "data": {
      "text/plain": [
       "'/home/alice/Documents/Project/info_extraction/scraped_data/files_in_txt'"
      ]
     },
     "execution_count": 157,
     "metadata": {},
     "output_type": "execute_result"
    }
   ],
   "source": [
    "os.getcwd()"
   ]
  },
  {
   "cell_type": "code",
   "execution_count": 158,
   "metadata": {},
   "outputs": [
    {
     "data": {
      "text/plain": [
       "1261"
      ]
     },
     "execution_count": 158,
     "metadata": {},
     "output_type": "execute_result"
    }
   ],
   "source": [
    "len(os.listdir())"
   ]
  },
  {
   "cell_type": "code",
   "execution_count": null,
   "metadata": {
    "collapsed": true
   },
   "outputs": [],
   "source": []
  },
  {
   "cell_type": "code",
   "execution_count": null,
   "metadata": {
    "collapsed": true
   },
   "outputs": [],
   "source": []
  },
  {
   "cell_type": "code",
   "execution_count": 163,
   "metadata": {},
   "outputs": [
    {
     "name": "stdout",
     "output_type": "stream",
     "text": [
      "Using Python parser to sniff delimiter\n"
     ]
    }
   ],
   "source": [
    "#list of real data, I created it manually \n",
    "txt_data = pd.read_csv(\"/home/alice/Documents/Project/info_extraction/listoftxt_files.csv\", sep=None)"
   ]
  },
  {
   "cell_type": "code",
   "execution_count": 27,
   "metadata": {},
   "outputs": [
    {
     "data": {
      "text/plain": [
       "0        'Tanzania MDRTZ016 10Mar2015.txt',\n",
       "1         'Somalia MDRSO003 24Apr2015.txt',\n",
       "2     'Afghanistan MDRAF003 05Nov2015.txt',\n",
       "3            'Philippines 0 18Dec2015.txt',\n",
       "4            'Peru MAAPE002 01May2015.txt',\n",
       "Name: File_names, dtype: object"
      ]
     },
     "execution_count": 27,
     "metadata": {},
     "output_type": "execute_result"
    }
   ],
   "source": [
    "txt_data[\"File_names\"].head()"
   ]
  },
  {
   "cell_type": "code",
   "execution_count": null,
   "metadata": {
    "collapsed": true
   },
   "outputs": [],
   "source": []
  },
  {
   "cell_type": "code",
   "execution_count": 28,
   "metadata": {},
   "outputs": [
    {
     "data": {
      "text/plain": [
       "(1261, 2)"
      ]
     },
     "execution_count": 28,
     "metadata": {},
     "output_type": "execute_result"
    }
   ],
   "source": [
    "txt_data.shape"
   ]
  },
  {
   "cell_type": "code",
   "execution_count": 29,
   "metadata": {},
   "outputs": [
    {
     "data": {
      "text/plain": [
       "3992    Zimbabwe MDRZW010 02Apr2015.pdf\n",
       "3993    Zimbabwe MDRZW010 13Jan2015.pdf\n",
       "3994    Zimbabwe MDRZW010 26Aug2015.pdf\n",
       "3995    Zimbabwe MDRZW011 16Sep2015.pdf\n",
       "3996    Zimbabwe MDRZW011 27Apr2016.pdf\n",
       "Name: file.name, dtype: object"
      ]
     },
     "execution_count": 29,
     "metadata": {},
     "output_type": "execute_result"
    }
   ],
   "source": [
    "j = data[\"file.name\"]\n",
    "j[-5:]"
   ]
  },
  {
   "cell_type": "code",
   "execution_count": 44,
   "metadata": {},
   "outputs": [
    {
     "data": {
      "text/plain": [
       "(1261,)"
      ]
     },
     "execution_count": 44,
     "metadata": {},
     "output_type": "execute_result"
    }
   ],
   "source": [
    "txt_data.File_names.shape"
   ]
  },
  {
   "cell_type": "code",
   "execution_count": 45,
   "metadata": {
    "collapsed": true
   },
   "outputs": [],
   "source": [
    "import re"
   ]
  },
  {
   "cell_type": "code",
   "execution_count": null,
   "metadata": {
    "collapsed": true
   },
   "outputs": [],
   "source": []
  },
  {
   "cell_type": "code",
   "execution_count": 176,
   "metadata": {},
   "outputs": [
    {
     "data": {
      "text/html": [
       "<div style=\"max-height:1000px;max-width:1500px;overflow:auto;\">\n",
       "<table border=\"1\" class=\"dataframe\">\n",
       "  <thead>\n",
       "    <tr style=\"text-align: right;\">\n",
       "      <th></th>\n",
       "      <th>    SerialNumber         </th>\n",
       "      <th>File_names</th>\n",
       "    </tr>\n",
       "  </thead>\n",
       "  <tbody>\n",
       "    <tr>\n",
       "      <th>0</th>\n",
       "      <td> 0</td>\n",
       "      <td>    Tanzania MDRTZ016 10Mar2015.pdf</td>\n",
       "    </tr>\n",
       "    <tr>\n",
       "      <th>1</th>\n",
       "      <td> 1</td>\n",
       "      <td>     Somalia MDRSO003 24Apr2015.pdf</td>\n",
       "    </tr>\n",
       "    <tr>\n",
       "      <th>2</th>\n",
       "      <td> 2</td>\n",
       "      <td> Afghanistan MDRAF003 05Nov2015.pdf</td>\n",
       "    </tr>\n",
       "  </tbody>\n",
       "</table>\n",
       "<p>3 rows × 2 columns</p>\n",
       "</div>"
      ],
      "text/plain": [
       "       SerialNumber                                   File_names\n",
       "0                          0     Tanzania MDRTZ016 10Mar2015.pdf\n",
       "1                          1      Somalia MDRSO003 24Apr2015.pdf\n",
       "2                          2  Afghanistan MDRAF003 05Nov2015.pdf\n",
       "\n",
       "[3 rows x 2 columns]"
      ]
     },
     "execution_count": 176,
     "metadata": {},
     "output_type": "execute_result"
    }
   ],
   "source": [
    "txt_data.head(3)"
   ]
  },
  {
   "cell_type": "code",
   "execution_count": 177,
   "metadata": {},
   "outputs": [
    {
     "data": {
      "text/plain": [
       "(3997,)"
      ]
     },
     "execution_count": 177,
     "metadata": {},
     "output_type": "execute_result"
    }
   ],
   "source": [
    "data[\"file.name\"].shape"
   ]
  },
  {
   "cell_type": "code",
   "execution_count": 178,
   "metadata": {
    "collapsed": true
   },
   "outputs": [],
   "source": [
    "to_strip = '\\'\" ,'\n",
    "for i in range(len(txt_data)):\n",
    "    txt_data.File_names[i] = txt_data.File_names[i].rstrip(to_strip).lstrip(to_strip)\n",
    "    if txt_data.File_names[i].endswith('txt'):\n",
    "        txt_data.File_names[i] = txt_data.File_names[i][:-3] + 'pdf'"
   ]
  },
  {
   "cell_type": "code",
   "execution_count": 211,
   "metadata": {},
   "outputs": [
    {
     "name": "stdout",
     "output_type": "stream",
     "text": [
      "393 81 Zimbabwe MDRZW011 27Apr2016.pdf\n"
     ]
    }
   ],
   "source": [
    "cnt = 0\n",
    "cnt_yes = 0\n",
    "k =[]\n",
    "l= []\n",
    "for i, f in enumerate(data[\"file.name\"]):\n",
    "    #rint(i, f)\n",
    "    if f in txt_data.File_names.values:\n",
    "        cnt += 1\n",
    "        if data.iloc[i].CTP == 'yes':\n",
    "            cnt_yes += 1\n",
    "        l.append(i)\n",
    "        l.append(f)\n",
    "#print(l)\n",
    "    #k.append(f)\n",
    "    k.append(f)\n",
    "    #print(f)\n",
    "        #print(len(l))\n",
    "print(cnt, cnt_yes,f)\n"
   ]
  },
  {
   "cell_type": "code",
   "execution_count": 216,
   "metadata": {},
   "outputs": [
    {
     "name": "stdout",
     "output_type": "stream",
     "text": [
      "393 Zimbabwe MDRZW011 27Apr2016.pdf\n"
     ]
    }
   ],
   "source": [
    "cnt = 0\n",
    "k =[]\n",
    "for i, f in enumerate(data[\"file.name\"]):\n",
    "    #print(i, f)\n",
    "    if f in txt_data.File_names.values:\n",
    "        cnt += 1\n",
    "    k.append(cnt)     \n",
    "print(cnt, f)\n"
   ]
  },
  {
   "cell_type": "code",
   "execution_count": null,
   "metadata": {
    "collapsed": true
   },
   "outputs": [],
   "source": []
  },
  {
   "cell_type": "code",
   "execution_count": null,
   "metadata": {},
   "outputs": [],
   "source": [
    "\n"
   ]
  },
  {
   "cell_type": "code",
   "execution_count": null,
   "metadata": {},
   "outputs": [],
   "source": []
  },
  {
   "cell_type": "code",
   "execution_count": null,
   "metadata": {},
   "outputs": [],
   "source": []
  },
  {
   "cell_type": "code",
   "execution_count": 67,
   "metadata": {},
   "outputs": [],
   "source": [
    "#cnt = 0\n",
    "#for i in range(len(data)):\n",
    "#    if data.iloc[i].CTP == 'yes':\n",
    "#        cnt += 1\n",
    "#cnt"
   ]
  },
  {
   "cell_type": "code",
   "execution_count": 77,
   "metadata": {},
   "outputs": [],
   "source": [
    "yes_files= '/home/alice/Documents/Project/info_extraction/scraped_data/files_in_txt/yes/'"
   ]
  },
  {
   "cell_type": "code",
   "execution_count": 78,
   "metadata": {},
   "outputs": [
    {
     "data": {
      "text/plain": [
       "'/home/alice/Documents/Project/info_extraction/scraped_data/files_in_txt/yes/'"
      ]
     },
     "execution_count": 78,
     "metadata": {},
     "output_type": "execute_result"
    }
   ],
   "source": [
    "yes_files"
   ]
  },
  {
   "cell_type": "code",
   "execution_count": null,
   "metadata": {},
   "outputs": [],
   "source": []
  },
  {
   "cell_type": "markdown",
   "metadata": {
    "collapsed": true
   },
   "source": [
    "# NAIVE BAYES"
   ]
  },
  {
   "cell_type": "code",
   "execution_count": 139,
   "metadata": {
    "collapsed": true
   },
   "outputs": [],
   "source": [
    "from shutil import copyfile"
   ]
  },
  {
   "cell_type": "code",
   "execution_count": null,
   "metadata": {
    "collapsed": true
   },
   "outputs": [],
   "source": []
  },
  {
   "cell_type": "code",
   "execution_count": null,
   "metadata": {
    "collapsed": true
   },
   "outputs": [],
   "source": []
  },
  {
   "cell_type": "code",
   "execution_count": 142,
   "metadata": {},
   "outputs": [],
   "source": [
    "train_set = l\n",
    "test_set = "
   ]
  },
  {
   "cell_type": "code",
   "execution_count": 137,
   "metadata": {},
   "outputs": [],
   "source": [
    "from "
   ]
  },
  {
   "cell_type": "code",
   "execution_count": null,
   "metadata": {
    "scrolled": true
   },
   "outputs": [],
   "source": [
    "a = data.CTP\n",
    "def new(data):\n",
    "    for i in data.CTP:\n",
    "        try:\n",
    "            data[yes in data.CTP]\n",
    "            print(data[yes in data[\"CTP\"]])\n",
    "        except:\n",
    "            pass # \"KeyError: no item named False\"\n",
    "    return i"
   ]
  },
  {
   "cell_type": "code",
   "execution_count": null,
   "metadata": {
    "collapsed": true
   },
   "outputs": [],
   "source": [
    "txt_data.File_names["
   ]
  },
  {
   "cell_type": "code",
   "execution_count": null,
   "metadata": {
    "collapsed": true
   },
   "outputs": [],
   "source": []
  },
  {
   "cell_type": "code",
   "execution_count": null,
   "metadata": {
    "collapsed": true
   },
   "outputs": [],
   "source": []
  },
  {
   "cell_type": "code",
   "execution_count": null,
   "metadata": {
    "collapsed": true
   },
   "outputs": [],
   "source": []
  },
  {
   "cell_type": "code",
   "execution_count": null,
   "metadata": {
    "collapsed": true
   },
   "outputs": [],
   "source": []
  },
  {
   "cell_type": "code",
   "execution_count": null,
   "metadata": {
    "collapsed": true
   },
   "outputs": [],
   "source": []
  },
  {
   "cell_type": "code",
   "execution_count": null,
   "metadata": {
    "collapsed": true
   },
   "outputs": [],
   "source": []
  },
  {
   "cell_type": "code",
   "execution_count": null,
   "metadata": {
    "collapsed": true
   },
   "outputs": [],
   "source": []
  },
  {
   "cell_type": "code",
   "execution_count": null,
   "metadata": {
    "collapsed": true
   },
   "outputs": [],
   "source": []
  }
 ],
 "metadata": {
  "kernelspec": {
   "display_name": "Python 3",
   "language": "python",
   "name": "python3"
  },
  "language_info": {
   "codemirror_mode": {
    "name": "ipython",
    "version": 3
   },
   "file_extension": ".py",
   "mimetype": "text/x-python",
   "name": "python",
   "nbconvert_exporter": "python",
   "pygments_lexer": "ipython3",
   "version": "3.4.3"
  }
 },
 "nbformat": 4,
 "nbformat_minor": 2
}
