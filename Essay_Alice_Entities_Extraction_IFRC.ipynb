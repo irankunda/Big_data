{
 "cells": [
  {
   "cell_type": "markdown",
   "metadata": {},
   "source": [
    "# Named Entities Recognition"
   ]
  },
  {
   "cell_type": "code",
   "execution_count": 1,
   "metadata": {
    "collapsed": true
   },
   "outputs": [],
   "source": [
    "import os\n",
    "import nltk\n",
    "import json\n",
    "import re\n",
    "import codecs\n",
    "import string\n",
    "import subprocess\n",
    "import unicodedata\n",
    "import collections\n",
    "import pandas as pd\n",
    "\n",
    "\n",
    "from nltk import ne_chunk\n",
    "from polyglot.text import Text\n",
    "\n",
    "from nltk import word_tokenize\n",
    "from collections import defaultdict\n",
    "from polyglot.detect import Detector\n",
    "from nltk.tag import StanfordNERTagger\n",
    "from nltk.tag import StanfordPOSTagger\n",
    "from nltk.internals import find_jars_within_path\n",
    "\n",
    "from polyglot.downloader import downloader\n",
    "#downloader.download(\"embeddings2.en\",\"ner2.en\")\n",
    "\n"
   ]
  },
  {
   "cell_type": "code",
   "execution_count": null,
   "metadata": {
    "collapsed": true
   },
   "outputs": [],
   "source": []
  },
  {
   "cell_type": "markdown",
   "metadata": {
    "collapsed": true
   },
   "source": [
    "# Important paths to access data"
   ]
  },
  {
   "cell_type": "code",
   "execution_count": 2,
   "metadata": {
    "collapsed": false
   },
   "outputs": [
    {
     "data": {
      "text/plain": [
       "'/home/alice/Documents/Project/info_extraction/scraped_data/files_in_txt'"
      ]
     },
     "execution_count": 2,
     "metadata": {},
     "output_type": "execute_result"
    }
   ],
   "source": [
    "directory_name = os.path.dirname('/home/alice/Documents/Project/info_extraction/scraped_data/files_in_txt/Afghanistan 0 18Mar2015.txt')\n",
    "directory_name"
   ]
  },
  {
   "cell_type": "code",
   "execution_count": 3,
   "metadata": {
    "collapsed": false
   },
   "outputs": [
    {
     "data": {
      "text/plain": [
       "'/home/alice/Documents/Project/info_extraction/scraped_data/files_in_txt/Afghanistan 0 18Mar2015.txt'"
      ]
     },
     "execution_count": 3,
     "metadata": {},
     "output_type": "execute_result"
    }
   ],
   "source": [
    "sample_file = os.path.join('/home/alice','/home/alice/Documents/Project/info_extraction/scraped_data/files_in_txt/Afghanistan 0 18Mar2015.txt')\n",
    "sample_file"
   ]
  },
  {
   "cell_type": "code",
   "execution_count": 4,
   "metadata": {
    "collapsed": false
   },
   "outputs": [
    {
     "data": {
      "text/plain": [
       "'/home/alice/Documents/Project/info_extraction/scraped_data/files_in_txt/'"
      ]
     },
     "execution_count": 4,
     "metadata": {},
     "output_type": "execute_result"
    }
   ],
   "source": [
    "path = (\"/home/alice/Documents/Project/info_extraction/scraped_data/files_in_txt/\")\n",
    "path"
   ]
  },
  {
   "cell_type": "code",
   "execution_count": 5,
   "metadata": {
    "collapsed": false
   },
   "outputs": [
    {
     "data": {
      "text/plain": [
       "''"
      ]
     },
     "execution_count": 5,
     "metadata": {},
     "output_type": "execute_result"
    }
   ],
   "source": [
    "# We will work with files in this directory\n",
    "os.path.basename('/home/alice/Documents/Project/info_extraction/scraped_data/files_in_txt/')"
   ]
  },
  {
   "cell_type": "code",
   "execution_count": 6,
   "metadata": {
    "collapsed": false
   },
   "outputs": [
    {
     "data": {
      "text/plain": [
       "('/home/alice/Documents/Project/info_extraction/scraped_data/files_in_txt',\n",
       " 'Afghanistan 0 18Mar2015.txt')"
      ]
     },
     "execution_count": 6,
     "metadata": {},
     "output_type": "execute_result"
    }
   ],
   "source": [
    "# this can differenciate a directory and a file\n",
    "\n",
    "os.path.split('/home/alice/Documents/Project/info_extraction/scraped_data/files_in_txt/Afghanistan 0 18Mar2015.txt')"
   ]
  },
  {
   "cell_type": "code",
   "execution_count": null,
   "metadata": {
    "collapsed": true
   },
   "outputs": [],
   "source": []
  },
  {
   "cell_type": "markdown",
   "metadata": {},
   "source": [
    "##  Data storage customization"
   ]
  },
  {
   "cell_type": "code",
   "execution_count": 7,
   "metadata": {
    "collapsed": false
   },
   "outputs": [
    {
     "data": {
      "text/plain": [
       "'/home/alice/Documents/Project/info_extraction/scraped_data/files_in_txt'"
      ]
     },
     "execution_count": 7,
     "metadata": {},
     "output_type": "execute_result"
    }
   ],
   "source": [
    "## Set important paths\n",
    "\n",
    "BASE = os.path.join(os.path.dirname('/home/alice/Documents/Project/info_extraction/scraped_data/files_in_txt/Afghanistan 0 18Mar2015.txt'))\n",
    "BASE"
   ]
  },
  {
   "cell_type": "code",
   "execution_count": 8,
   "metadata": {
    "collapsed": false
   },
   "outputs": [
    {
     "data": {
      "text/plain": [
       "'scraped_data/files_in_txt'"
      ]
     },
     "execution_count": 8,
     "metadata": {},
     "output_type": "execute_result"
    }
   ],
   "source": [
    "DOCS = os.path.join(\"scraped_data\", \"files_in_txt\")\n",
    "DOCS"
   ]
  },
  {
   "cell_type": "code",
   "execution_count": 9,
   "metadata": {
    "collapsed": false
   },
   "outputs": [
    {
     "data": {
      "text/plain": [
       "'/home/alice/Documents/Project/info_extraction/scraped_data/files_in_txt'"
      ]
     },
     "execution_count": 9,
     "metadata": {},
     "output_type": "execute_result"
    }
   ],
   "source": [
    "path = BASE\n",
    "path"
   ]
  },
  {
   "cell_type": "code",
   "execution_count": 24,
   "metadata": {
    "collapsed": false
   },
   "outputs": [],
   "source": [
    "# list of files we have.\n",
    "#os.listdir(path)"
   ]
  },
  {
   "cell_type": "code",
   "execution_count": 12,
   "metadata": {
    "collapsed": true,
    "scrolled": false
   },
   "outputs": [],
   "source": [
    "address = os.listdir(path)"
   ]
  },
  {
   "cell_type": "code",
   "execution_count": 13,
   "metadata": {
    "collapsed": false
   },
   "outputs": [
    {
     "data": {
      "text/plain": [
       "1260"
      ]
     },
     "execution_count": 13,
     "metadata": {},
     "output_type": "execute_result"
    }
   ],
   "source": [
    "len(address)"
   ]
  },
  {
   "cell_type": "code",
   "execution_count": 14,
   "metadata": {
    "collapsed": false
   },
   "outputs": [
    {
     "data": {
      "text/plain": [
       "'/home/alice/Documents/Project/info_extraction/scraped_data/files_in_txt'"
      ]
     },
     "execution_count": 14,
     "metadata": {},
     "output_type": "execute_result"
    }
   ],
   "source": [
    "path"
   ]
  },
  {
   "cell_type": "code",
   "execution_count": 15,
   "metadata": {
    "collapsed": false
   },
   "outputs": [
    {
     "data": {
      "text/plain": [
       "'scraped_data/files_in_txt'"
      ]
     },
     "execution_count": 15,
     "metadata": {},
     "output_type": "execute_result"
    }
   ],
   "source": [
    "DOCS"
   ]
  },
  {
   "cell_type": "code",
   "execution_count": null,
   "metadata": {
    "collapsed": true
   },
   "outputs": [],
   "source": []
  },
  {
   "cell_type": "markdown",
   "metadata": {},
   "source": [
    "# Data description:\n",
    "### Our target files are in  txt  format .\n"
   ]
  },
  {
   "cell_type": "code",
   "execution_count": 16,
   "metadata": {
    "collapsed": false
   },
   "outputs": [
    {
     "name": "stdout",
     "output_type": "stream",
     "text": [
      "1260\n"
     ]
    }
   ],
   "source": [
    "def get_documents(path=BASE):\n",
    "    \n",
    "    '''Total number of txt file we have in corpus folder'''\n",
    "    \n",
    "    for name in os.listdir(path):\n",
    "        if name.startswith('') and name.endswith('.txt'):\n",
    "            yield os.path.join(path, name)\n",
    "print(len(list(get_documents())))"
   ]
  },
  {
   "cell_type": "code",
   "execution_count": null,
   "metadata": {
    "collapsed": false
   },
   "outputs": [],
   "source": []
  },
  {
   "cell_type": "markdown",
   "metadata": {},
   "source": [
    "# NLTK corpus "
   ]
  },
  {
   "cell_type": "code",
   "execution_count": 17,
   "metadata": {
    "collapsed": false
   },
   "outputs": [],
   "source": [
    "CORPUS = os.path.join(BASE, \"\", \"corpus\")"
   ]
  },
  {
   "cell_type": "code",
   "execution_count": 18,
   "metadata": {
    "collapsed": false
   },
   "outputs": [],
   "source": [
    "path = \"/home/alice/Documents/Project/info_extraction/scraped_data/files_in_txt/\""
   ]
  },
  {
   "cell_type": "code",
   "execution_count": 19,
   "metadata": {
    "collapsed": false
   },
   "outputs": [],
   "source": [
    "## Create a path to extract the corpus.\n",
    "\n",
    "CORPUS = os.path.join(\"/home/alice/Documents/Project/info_extraction/scraped_data\", \"corpus\")"
   ]
  },
  {
   "cell_type": "code",
   "execution_count": 20,
   "metadata": {
    "collapsed": false
   },
   "outputs": [],
   "source": [
    "#fname = os.path.splitext(os.path.basename(\"/home/alice/Documents/Project/info_extraction/scraped_data/Malawi MDRMW012 06Dec2016\"))[0] + \".txt\"\n",
    "fname =' /home/alice/Documents/Project/info_extraction/scraped_data/files_in_txt/Afghanistan 0 18Mar2015.txt'"
   ]
  },
  {
   "cell_type": "code",
   "execution_count": null,
   "metadata": {
    "collapsed": true
   },
   "outputs": [],
   "source": []
  },
  {
   "cell_type": "code",
   "execution_count": 22,
   "metadata": {
    "collapsed": false
   },
   "outputs": [
    {
     "name": "stdout",
     "output_type": "stream",
     "text": [
      "/home/alice/Documents/Project/info_extraction/scraped_data/files_in_txt/Afghanistan 0 18Mar2015.txt\n"
     ]
    }
   ],
   "source": [
    "# sample file \n",
    "\n",
    "example_file = '/home/alice/Documents/Project/info_extraction/scraped_data/files_in_txt/Afghanistan 0 18Mar2015.txt'\n",
    "print(example_file)"
   ]
  },
  {
   "cell_type": "code",
   "execution_count": 23,
   "metadata": {
    "collapsed": true
   },
   "outputs": [],
   "source": [
    "#example_file = '/home/alice/Documents/Project/info_extraction/scraped_data/files_in_txt/Tanzania MDRTZ016 10Mar2015.txt'"
   ]
  },
  {
   "cell_type": "code",
   "execution_count": 24,
   "metadata": {
    "collapsed": false
   },
   "outputs": [
    {
     "name": "stdout",
     "output_type": "stream",
     "text": [
      "9014\n"
     ]
    }
   ],
   "source": [
    "'''get the number of strings compose sample file before filtering'''\n",
    "document = open(example_file, 'r').read()\n",
    "print(len(document))"
   ]
  },
  {
   "cell_type": "code",
   "execution_count": 25,
   "metadata": {
    "collapsed": false
   },
   "outputs": [
    {
     "data": {
      "text/plain": [
       "8990"
      ]
     },
     "execution_count": 25,
     "metadata": {},
     "output_type": "execute_result"
    }
   ],
   "source": [
    "'''Remaining string after filtering'''\n",
    "document = filter(\n",
    "            lambda char: char in string.printable,\n",
    "            unicodedata.normalize('NFKD', document)\n",
    "        )\n",
    "len(list(document)) #   number of remaining strings after filt"
   ]
  },
  {
   "cell_type": "code",
   "execution_count": 26,
   "metadata": {
    "collapsed": true
   },
   "outputs": [],
   "source": [
    "# The filter removed 24 = 9014-8990 special characters "
   ]
  },
  {
   "cell_type": "code",
   "execution_count": 27,
   "metadata": {
    "collapsed": false
   },
   "outputs": [],
   "source": [
    "corpus = '/home/alice/Documents/Project/info_extraction/scraped_data/files_in_txt/corpus/'"
   ]
  },
  {
   "cell_type": "code",
   "execution_count": 28,
   "metadata": {
    "collapsed": false
   },
   "outputs": [],
   "source": [
    "#outpath = os.path.join(corpus, fname)\n",
    "outpath = '/home/alice/Documents/Project/info_extraction/scraped_data/files_in_txt/corpus/'"
   ]
  },
  {
   "cell_type": "code",
   "execution_count": null,
   "metadata": {
    "collapsed": true
   },
   "outputs": [],
   "source": []
  },
  {
   "cell_type": "markdown",
   "metadata": {},
   "source": [
    "\n",
    "### How to read a single report , remove nonprintable characters by  NRKF unicode and write the fitered report on outpth"
   ]
  },
  {
   "cell_type": "code",
   "execution_count": 29,
   "metadata": {
    "collapsed": true
   },
   "outputs": [],
   "source": [
    "## For a sample file"
   ]
  },
  {
   "cell_type": "code",
   "execution_count": 30,
   "metadata": {
    "collapsed": true
   },
   "outputs": [],
   "source": [
    "def sample_corpus(BASE,CORPUS):\n",
    "    #for path in get_documents(BASE):\n",
    "        example_file = '/home/alice/Documents/Project/info_extraction/scraped_data/files_in_txt/Afghanistan 0 18Mar2015.txt'\n",
    "        document = open(example_file, 'r').read()\n",
    "        print(len(document))\n",
    "        document = filter(\n",
    "            lambda char: char in string.printable,\n",
    "            unicodedata.normalize('NFKD', document)\n",
    "        )\n",
    "        document = ''.join(list(document))\n",
    "        print(document[:100])\n",
    "        fname = os.path.basename(example_file)\n",
    "        print(fname)\n",
    "        outpath = os.path.join(CORPUS, fname)\n",
    "        print(outpath)\n",
    "\n",
    "        with codecs.open(outpath, 'w') as f:\n",
    "            f.write(document)\n",
    "    "
   ]
  },
  {
   "cell_type": "code",
   "execution_count": 31,
   "metadata": {
    "collapsed": false
   },
   "outputs": [
    {
     "name": "stdout",
     "output_type": "stream",
     "text": [
      "9014\n",
      "Information Bulletin n 1\n",
      "Glide n AV-2015-000016-AFG\n",
      "18 March 2015\n",
      "This bulletin is being issued\n",
      "for \n",
      "Afghanistan 0 18Mar2015.txt\n",
      "/home/alice/Documents/Project/info_extraction/scraped_data/corpus/Afghanistan 0 18Mar2015.txt\n"
     ]
    }
   ],
   "source": [
    "sample_corpus(BASE, CORPUS)"
   ]
  },
  {
   "cell_type": "markdown",
   "metadata": {},
   "source": [
    "#  TOP 25 LINES Filtered corpus"
   ]
  },
  {
   "cell_type": "markdown",
   "metadata": {},
   "source": [
    "WHY DID WE CONSIDERED FIRST 25 FIVE LINES ONLY?"
   ]
  },
  {
   "cell_type": "code",
   "execution_count": 32,
   "metadata": {
    "collapsed": false
   },
   "outputs": [],
   "source": [
    "## WHY DID WE CONSIDERED FIRST 25 FIVE LINES ONLY?\n",
    "#=================================================\n",
    "#1.##  -For most of the pdf reports from IFRC, there is a \"small table\" containing important data,  \n",
    "#2.##  - the txt files gotten    from conversion  of PDF made  that \"small table\"  into almost  25 first lines of each txt document.\n",
    "#3.##  -I SPLIT THOSE TOP 25 LINES FOR EACH REPORT I COLLECTED THEM AS NEW CORCUP FOLDER CALLED \"initial_lines_txt\""
   ]
  },
  {
   "cell_type": "code",
   "execution_count": 33,
   "metadata": {
    "collapsed": true
   },
   "outputs": [],
   "source": [
    "\n",
    "def all_corpus(BASE,CORPUS):\n",
    "    '''Returns filtered corpus for the whole folder '''\n",
    "\n",
    "    for path in get_documents(BASE):\n",
    "        #print(path)\n",
    "        document = open(path, 'r').read()\n",
    "        #print(len(document))\n",
    "        document = filter(\n",
    "            lambda char: char in string.printable,\n",
    "            unicodedata.normalize('NFKD', document.encode('utf-8').decode('utf-8'))\n",
    "        )\n",
    "        document = ''.join(document)\n",
    "        document = \"\\n\".join(document.split('\\n')[:25])\n",
    "        fname = os.path.basename(path)\n",
    "        outpath = os.path.join(\n",
    "            \"/home/alice/Documents/Project/info_extraction/scraped_data/initial_lines_txt\", \n",
    "            fname)\n",
    "\n",
    "        with codecs.open(outpath, 'w') as f:\n",
    "            f.write(document)\n",
    "    "
   ]
  },
  {
   "cell_type": "code",
   "execution_count": 34,
   "metadata": {
    "collapsed": false
   },
   "outputs": [],
   "source": [
    "all_corpus(path,CORPUS)"
   ]
  },
  {
   "cell_type": "code",
   "execution_count": null,
   "metadata": {
    "collapsed": true
   },
   "outputs": [],
   "source": []
  },
  {
   "cell_type": "markdown",
   "metadata": {},
   "source": [
    "### Customizable NLTK corpus to access txt data on the disk an load the data"
   ]
  },
  {
   "cell_type": "code",
   "execution_count": 35,
   "metadata": {
    "collapsed": false
   },
   "outputs": [
    {
     "data": {
      "text/plain": [
       "<PlaintextCorpusReader in '/home/alice/Documents/Project/info_extraction/scraped_data/initial_lines_txt'>"
      ]
     },
     "execution_count": 35,
     "metadata": {},
     "output_type": "execute_result"
    }
   ],
   "source": [
    "kddcorpus = nltk.corpus.PlaintextCorpusReader(\n",
    "    \"/home/alice/Documents/Project/info_extraction/scraped_data/initial_lines_txt\",  \n",
    "    '.*\\.txt')  # For a full text :\"/home/alice/Documents/Project/info_extraction/scraped_data/files_in_txt\",\n",
    "kddcorpus"
   ]
  },
  {
   "cell_type": "code",
   "execution_count": 36,
   "metadata": {
    "collapsed": false
   },
   "outputs": [
    {
     "data": {
      "text/plain": [
       "['- Global - MAA00001 22Jul2015.txt',\n",
       " '- Global - MAA00006 24Apr2015.txt',\n",
       " '- Global - MAA00010 10Nov2015.txt',\n",
       " '- Global - MAA00021 02Jun2015.txt',\n",
       " '- Global - MAA00028 01May2015.txt',\n",
       " '- Global - MAA00029 21Jun2016.txt',\n",
       " '- Global - MAA00040 02Jun2015.txt',\n",
       " '- Global - MAA00040 10Nov2015.txt',\n",
       " '- Global - MAA00040 12May2015.txt',\n",
       " '- Global - MDR00001 01Jun2016.txt',\n",
       " '- Global - MDR00001 21Apr2015.txt',\n",
       " '- Global - MDR42003 01Jun2016.txt',\n",
       " '- Global - MDR42003 02Feb2016.txt',\n",
       " '- Global - MDR42003 04Mar2016.txt',\n",
       " '- Global - MDR42003 22Jun2016.txt']"
      ]
     },
     "execution_count": 36,
     "metadata": {},
     "output_type": "execute_result"
    }
   ],
   "source": [
    "# Just a look on top 15 documents\n",
    "\n",
    "initial_ids = kddcorpus.fileids()[:15]; initial_ids"
   ]
  },
  {
   "cell_type": "markdown",
   "metadata": {},
   "source": [
    "### FreqDist to calculate sum of words we have for corpus and stopwords"
   ]
  },
  {
   "cell_type": "code",
   "execution_count": 37,
   "metadata": {
    "collapsed": false
   },
   "outputs": [
    {
     "name": "stdout",
     "output_type": "stream",
     "text": [
      "Corpus contains a vocabulary of 343611 and a word count of 11843.\n"
     ]
    }
   ],
   "source": [
    "'''How many words and stopwords in our corpus ? '''\n",
    "\n",
    "words = nltk.FreqDist(kddcorpus.words())\n",
    "count = sum(words.values())\n",
    "vocab = len(words)\n",
    "\n",
    "print(\"Corpus contains a vocabulary of {} and a word count of {}.\".format(\n",
    "    count, vocab\n",
    "))"
   ]
  },
  {
   "cell_type": "code",
   "execution_count": 38,
   "metadata": {
    "collapsed": false
   },
   "outputs": [
    {
     "data": {
      "text/plain": [
       "'Africa regional office MDR60002 03Nov2015.txt'"
      ]
     },
     "execution_count": 38,
     "metadata": {},
     "output_type": "execute_result"
    }
   ],
   "source": [
    "#sample file on position 29 called 'Africa regional office MDR60002 03Nov2015.txt'\n",
    "\n",
    "fids = kddcorpus.fileids()[28];fids"
   ]
  },
  {
   "cell_type": "markdown",
   "metadata": {
    "collapsed": true
   },
   "source": [
    "# NERC Tools  to the corpus "
   ]
  },
  {
   "cell_type": "markdown",
   "metadata": {},
   "source": [
    "#### For this Research we are using starnford model  version 2014  but later we will use 2016 version for comparaison.\n"
   ]
  },
  {
   "cell_type": "code",
   "execution_count": null,
   "metadata": {
    "collapsed": true
   },
   "outputs": [],
   "source": []
  },
  {
   "cell_type": "code",
   "execution_count": 39,
   "metadata": {
    "collapsed": false
   },
   "outputs": [],
   "source": [
    "'''    \n",
    "   Download jar and model of stanford of version 2014 from the NLP website\n",
    "   - Return a disctionary of location, persons, organization and others \n",
    "    '''\n",
    "# root of model, jar and stanford packages.\n",
    "root  = os.path.expanduser('~/models/stanford-ner-2014-01-04/')\n",
    "# later We will uroot = os.path.expanduser('~/models/stanford-corenlp-full-2016-10-31/') \n",
    "\n",
    "\n",
    "model = os.path.join(root, 'classifiers/english.muc.7class.distsim.crf.ser.gz')\n",
    "\n",
    "\n",
    "jar  = os.path.join(root, 'stanford-ner-2014-01-04.jar')"
   ]
  },
  {
   "cell_type": "markdown",
   "metadata": {},
   "source": [
    "# STANFORD NER FOR TOP 25 LINES"
   ]
  },
  {
   "cell_type": "code",
   "execution_count": 40,
   "metadata": {
    "collapsed": false
   },
   "outputs": [],
   "source": [
    "def stanford_entities(fileids=None, corpus=kddcorpus):\n",
    "    \n",
    "    jar = \"/home/alice/models/stanford-ner-2014-01-04/stanford-ner-2014-01-04.jar\"\n",
    "    model = \"/home/alice/models/stanford-ner-2014-01-04/classifiers/english.muc.7class.distsim.crf.ser.gz\"\n",
    "    \n",
    "    results = defaultdict(lambda: defaultdict(list))\n",
    "    fileids = fileids or corpus.fileids()\n",
    "    tagger  = StanfordNERTagger(model, jar)\n",
    "\n",
    "    for fileid in fileids:\n",
    "        text  = corpus.words(fileid)\n",
    "\n",
    "        chunk = []\n",
    "\n",
    "        for token, tag in tagger.tag(text):\n",
    "            if tag == 'O':\n",
    "                if chunk:\n",
    "                    # Flush the current chunk\n",
    "                    etext =  \" \".join([c[0] for c in chunk])\n",
    "                    etag  = chunk[0][1]\n",
    "                    chunk = []\n",
    "\n",
    "                    if etag == 'PERSON':\n",
    "                        key = 'persons'\n",
    "                    elif etag == 'ORGANIZATION':\n",
    "                        key = 'organizations'\n",
    "                    elif etag == 'LOCATION':\n",
    "                        key = 'locations'\n",
    "                    else:\n",
    "                        key = 'other'\n",
    "\n",
    "                    results[fileid][key].append(etext)\n",
    "\n",
    "            else:\n",
    "                chunk.append((token, tag)) # Build chunk from tags\n",
    "\n",
    "    return results"
   ]
  },
  {
   "cell_type": "code",
   "execution_count": 25,
   "metadata": {
    "collapsed": false
   },
   "outputs": [],
   "source": [
    "#stanford_entities(fileids=None, corpus=kddcorpus)"
   ]
  },
  {
   "cell_type": "code",
   "execution_count": 42,
   "metadata": {
    "collapsed": false
   },
   "outputs": [
    {
     "data": {
      "text/html": [
       "<div>\n",
       "<table border=\"1\" class=\"dataframe\">\n",
       "  <thead>\n",
       "    <tr style=\"text-align: right;\">\n",
       "      <th></th>\n",
       "      <th>- Global - MAA00001 22Jul2015.txt</th>\n",
       "      <th>- Global - MAA00006 24Apr2015.txt</th>\n",
       "      <th>- Global - MAA00010 10Nov2015.txt</th>\n",
       "      <th>- Global - MAA00021 02Jun2015.txt</th>\n",
       "      <th>- Global - MAA00028 01May2015.txt</th>\n",
       "      <th>- Global - MAA00029 21Jun2016.txt</th>\n",
       "      <th>- Global - MAA00040 02Jun2015.txt</th>\n",
       "      <th>- Global - MAA00040 10Nov2015.txt</th>\n",
       "      <th>- Global - MAA00040 12May2015.txt</th>\n",
       "      <th>- Global - MDR00001 01Jun2016.txt</th>\n",
       "      <th>...</th>\n",
       "      <th>Zimbabwe MDRZW010 26Aug2015.txt</th>\n",
       "      <th>Zimbabwe MDRZW011 04Oct2016.txt</th>\n",
       "      <th>Zimbabwe MDRZW011 09May2016.txt</th>\n",
       "      <th>Zimbabwe MDRZW011 15Oct2015.txt</th>\n",
       "      <th>Zimbabwe MDRZW011 16Sep2015.txt</th>\n",
       "      <th>Zimbabwe MDRZW011 18Sep2015.txt</th>\n",
       "      <th>Zimbabwe MDRZW011 24Mar2016.txt</th>\n",
       "      <th>Zimbabwe MDRZW011 27Apr2016.txt</th>\n",
       "      <th>Zimbabwe MDRZW011 29Sep2015.txt</th>\n",
       "      <th>table_report.txt</th>\n",
       "    </tr>\n",
       "  </thead>\n",
       "  <tbody>\n",
       "    <tr>\n",
       "      <th>locations</th>\n",
       "      <td>[Neonatal]</td>\n",
       "      <td>[Geneva, Geneva]</td>\n",
       "      <td>[Bolivia]</td>\n",
       "      <td>[Sendai, Japan, Geneva, Cali, Colombia]</td>\n",
       "      <td>[Geneva, Panama, Kuala Lumpur, Nairobi, Dubai,...</td>\n",
       "      <td>[Syria, Iraq, Afghanistan, Libya, Ukraine, Yem...</td>\n",
       "      <td>NaN</td>\n",
       "      <td>NaN</td>\n",
       "      <td>NaN</td>\n",
       "      <td>NaN</td>\n",
       "      <td>...</td>\n",
       "      <td>[Zimbabwe, Zimbabwe, Manicaland, Mashonaland C...</td>\n",
       "      <td>[Zimbabwe, Mashonaland East, Mashonaland West]</td>\n",
       "      <td>[Mashonaland East, Mashonaland Central, Zimbab...</td>\n",
       "      <td>[Mashonaland East, Mashonaland Central, Zimbab...</td>\n",
       "      <td>NaN</td>\n",
       "      <td>NaN</td>\n",
       "      <td>[Southern Africa, Mashonaland East, Mashonalan...</td>\n",
       "      <td>[South of Zimbabwe]</td>\n",
       "      <td>[Southern Africa, Mashonaland East, Mashonalan...</td>\n",
       "      <td>[Philippines, Myanmar, Myanmar, Myanmar, Iraq,...</td>\n",
       "    </tr>\n",
       "    <tr>\n",
       "      <th>organizations</th>\n",
       "      <td>[Global Health Report Health Department 2014 T...</td>\n",
       "      <td>[National Societies, NSKD, International Feder...</td>\n",
       "      <td>[DREF 2013 Number Amount, Red Cross Red Cresce...</td>\n",
       "      <td>[Preparatory Committee of WCDRR, DRR, Fourth G...</td>\n",
       "      <td>[IFRC Global Logistics Service, IFRC, National...</td>\n",
       "      <td>[Red Cross, Red Crescent, IFRC, IFRC, Middle E...</td>\n",
       "      <td>[Federation of Red Cross, Rules for Disaster R...</td>\n",
       "      <td>[IFRC, Crisis Management Department ( DCM ) Gl...</td>\n",
       "      <td>[International Federation of Red Cross, Nation...</td>\n",
       "      <td>[DREF 2015 Number Amount, Red Cross Red Cresce...</td>\n",
       "      <td>...</td>\n",
       "      <td>[Danish Red Cross, Norwegian Red Cross, Finnis...</td>\n",
       "      <td>[IFRC, Southern Africa NS, Host National Socie...</td>\n",
       "      <td>[Disaster Risk Management Coordinator, IFRC, S...</td>\n",
       "      <td>[Disaster Risk Management Coordinator, IFRC, S...</td>\n",
       "      <td>[NET Appeal, This Emergency Appeal, Zimbabwe R...</td>\n",
       "      <td>[FedNet, Inkind Goods &amp; Transport Inkind Perso...</td>\n",
       "      <td>[EA Operations, Disaster Risk Management Coord...</td>\n",
       "      <td>[Emergency Appeal, Zimbabwe Red Cross Society,...</td>\n",
       "      <td>[Disaster Risk Management Coordinator, IFRC, Z...</td>\n",
       "      <td>[Iraq]</td>\n",
       "    </tr>\n",
       "    <tr>\n",
       "      <th>other</th>\n",
       "      <td>NaN</td>\n",
       "      <td>[2014, 2014, 2014 The Difference Overview The ...</td>\n",
       "      <td>[31 %, 69 %, 2014, 2 per cent, 2013, April 201...</td>\n",
       "      <td>[2015, March 2015, July, November 2014, June, ...</td>\n",
       "      <td>[2015, Strategy 2020, 2015, 2014, 2015, 2014, ...</td>\n",
       "      <td>[2014, 2014, 1990, 7 %, 2014]</td>\n",
       "      <td>NaN</td>\n",
       "      <td>[January June 2015, January 2015 12 months 72]</td>\n",
       "      <td>NaN</td>\n",
       "      <td>[1241 19, 33 %, 67 %, 2015, 2014, 2014, 2015]</td>\n",
       "      <td>...</td>\n",
       "      <td>[2015, August , 2015, December , 2014, January...</td>\n",
       "      <td>[September 2016, September 2015 16 September 2...</td>\n",
       "      <td>[April 2016, October 2015, 25 April 2016, Sept...</td>\n",
       "      <td>[October 2015, August 2015, September 2015, Se...</td>\n",
       "      <td>[October, December 2015, September 2015 83, Ma...</td>\n",
       "      <td>NaN</td>\n",
       "      <td>[October 2015, 14 March 2016, September 2015 1...</td>\n",
       "      <td>[September 2015, April 2016, December 2016, 30...</td>\n",
       "      <td>[September 2015, September 2015, September , 2...</td>\n",
       "      <td>NaN</td>\n",
       "    </tr>\n",
       "    <tr>\n",
       "      <th>persons</th>\n",
       "      <td>NaN</td>\n",
       "      <td>NaN</td>\n",
       "      <td>NaN</td>\n",
       "      <td>NaN</td>\n",
       "      <td>[Sierra Leone]</td>\n",
       "      <td>[Jaime Sepulveda, Christopher Murray]</td>\n",
       "      <td>NaN</td>\n",
       "      <td>[Pankaj Mishra, Hakan Karay]</td>\n",
       "      <td>NaN</td>\n",
       "      <td>NaN</td>\n",
       "      <td>...</td>\n",
       "      <td>NaN</td>\n",
       "      <td>[Jamie LeSueur, Maxwell Phiri]</td>\n",
       "      <td>[Maxwell Phiri]</td>\n",
       "      <td>[Maxwell Phiri]</td>\n",
       "      <td>NaN</td>\n",
       "      <td>NaN</td>\n",
       "      <td>[Maxwell Phiri]</td>\n",
       "      <td>NaN</td>\n",
       "      <td>[Maxwell Phiri]</td>\n",
       "      <td>[Typhoon Nock, Typhoon Nock, Typhoon Nock, Noc...</td>\n",
       "    </tr>\n",
       "  </tbody>\n",
       "</table>\n",
       "<p>4 rows × 1258 columns</p>\n",
       "</div>"
      ],
      "text/plain": [
       "                               - Global - MAA00001 22Jul2015.txt  \\\n",
       "locations                                             [Neonatal]   \n",
       "organizations  [Global Health Report Health Department 2014 T...   \n",
       "other                                                        NaN   \n",
       "persons                                                      NaN   \n",
       "\n",
       "                               - Global - MAA00006 24Apr2015.txt  \\\n",
       "locations                                       [Geneva, Geneva]   \n",
       "organizations  [National Societies, NSKD, International Feder...   \n",
       "other          [2014, 2014, 2014 The Difference Overview The ...   \n",
       "persons                                                      NaN   \n",
       "\n",
       "                               - Global - MAA00010 10Nov2015.txt  \\\n",
       "locations                                              [Bolivia]   \n",
       "organizations  [DREF 2013 Number Amount, Red Cross Red Cresce...   \n",
       "other          [31 %, 69 %, 2014, 2 per cent, 2013, April 201...   \n",
       "persons                                                      NaN   \n",
       "\n",
       "                               - Global - MAA00021 02Jun2015.txt  \\\n",
       "locations                [Sendai, Japan, Geneva, Cali, Colombia]   \n",
       "organizations  [Preparatory Committee of WCDRR, DRR, Fourth G...   \n",
       "other          [2015, March 2015, July, November 2014, June, ...   \n",
       "persons                                                      NaN   \n",
       "\n",
       "                               - Global - MAA00028 01May2015.txt  \\\n",
       "locations      [Geneva, Panama, Kuala Lumpur, Nairobi, Dubai,...   \n",
       "organizations  [IFRC Global Logistics Service, IFRC, National...   \n",
       "other          [2015, Strategy 2020, 2015, 2014, 2015, 2014, ...   \n",
       "persons                                           [Sierra Leone]   \n",
       "\n",
       "                               - Global - MAA00029 21Jun2016.txt  \\\n",
       "locations      [Syria, Iraq, Afghanistan, Libya, Ukraine, Yem...   \n",
       "organizations  [Red Cross, Red Crescent, IFRC, IFRC, Middle E...   \n",
       "other                              [2014, 2014, 1990, 7 %, 2014]   \n",
       "persons                    [Jaime Sepulveda, Christopher Murray]   \n",
       "\n",
       "                               - Global - MAA00040 02Jun2015.txt  \\\n",
       "locations                                                    NaN   \n",
       "organizations  [Federation of Red Cross, Rules for Disaster R...   \n",
       "other                                                        NaN   \n",
       "persons                                                      NaN   \n",
       "\n",
       "                               - Global - MAA00040 10Nov2015.txt  \\\n",
       "locations                                                    NaN   \n",
       "organizations  [IFRC, Crisis Management Department ( DCM ) Gl...   \n",
       "other             [January June 2015, January 2015 12 months 72]   \n",
       "persons                             [Pankaj Mishra, Hakan Karay]   \n",
       "\n",
       "                               - Global - MAA00040 12May2015.txt  \\\n",
       "locations                                                    NaN   \n",
       "organizations  [International Federation of Red Cross, Nation...   \n",
       "other                                                        NaN   \n",
       "persons                                                      NaN   \n",
       "\n",
       "                               - Global - MDR00001 01Jun2016.txt  \\\n",
       "locations                                                    NaN   \n",
       "organizations  [DREF 2015 Number Amount, Red Cross Red Cresce...   \n",
       "other              [1241 19, 33 %, 67 %, 2015, 2014, 2014, 2015]   \n",
       "persons                                                      NaN   \n",
       "\n",
       "                                     ...                          \\\n",
       "locations                            ...                           \n",
       "organizations                        ...                           \n",
       "other                                ...                           \n",
       "persons                              ...                           \n",
       "\n",
       "                                 Zimbabwe MDRZW010 26Aug2015.txt  \\\n",
       "locations      [Zimbabwe, Zimbabwe, Manicaland, Mashonaland C...   \n",
       "organizations  [Danish Red Cross, Norwegian Red Cross, Finnis...   \n",
       "other          [2015, August , 2015, December , 2014, January...   \n",
       "persons                                                      NaN   \n",
       "\n",
       "                                 Zimbabwe MDRZW011 04Oct2016.txt  \\\n",
       "locations         [Zimbabwe, Mashonaland East, Mashonaland West]   \n",
       "organizations  [IFRC, Southern Africa NS, Host National Socie...   \n",
       "other          [September 2016, September 2015 16 September 2...   \n",
       "persons                           [Jamie LeSueur, Maxwell Phiri]   \n",
       "\n",
       "                                 Zimbabwe MDRZW011 09May2016.txt  \\\n",
       "locations      [Mashonaland East, Mashonaland Central, Zimbab...   \n",
       "organizations  [Disaster Risk Management Coordinator, IFRC, S...   \n",
       "other          [April 2016, October 2015, 25 April 2016, Sept...   \n",
       "persons                                          [Maxwell Phiri]   \n",
       "\n",
       "                                 Zimbabwe MDRZW011 15Oct2015.txt  \\\n",
       "locations      [Mashonaland East, Mashonaland Central, Zimbab...   \n",
       "organizations  [Disaster Risk Management Coordinator, IFRC, S...   \n",
       "other          [October 2015, August 2015, September 2015, Se...   \n",
       "persons                                          [Maxwell Phiri]   \n",
       "\n",
       "                                 Zimbabwe MDRZW011 16Sep2015.txt  \\\n",
       "locations                                                    NaN   \n",
       "organizations  [NET Appeal, This Emergency Appeal, Zimbabwe R...   \n",
       "other          [October, December 2015, September 2015 83, Ma...   \n",
       "persons                                                      NaN   \n",
       "\n",
       "                                 Zimbabwe MDRZW011 18Sep2015.txt  \\\n",
       "locations                                                    NaN   \n",
       "organizations  [FedNet, Inkind Goods & Transport Inkind Perso...   \n",
       "other                                                        NaN   \n",
       "persons                                                      NaN   \n",
       "\n",
       "                                 Zimbabwe MDRZW011 24Mar2016.txt  \\\n",
       "locations      [Southern Africa, Mashonaland East, Mashonalan...   \n",
       "organizations  [EA Operations, Disaster Risk Management Coord...   \n",
       "other          [October 2015, 14 March 2016, September 2015 1...   \n",
       "persons                                          [Maxwell Phiri]   \n",
       "\n",
       "                                 Zimbabwe MDRZW011 27Apr2016.txt  \\\n",
       "locations                                    [South of Zimbabwe]   \n",
       "organizations  [Emergency Appeal, Zimbabwe Red Cross Society,...   \n",
       "other          [September 2015, April 2016, December 2016, 30...   \n",
       "persons                                                      NaN   \n",
       "\n",
       "                                 Zimbabwe MDRZW011 29Sep2015.txt  \\\n",
       "locations      [Southern Africa, Mashonaland East, Mashonalan...   \n",
       "organizations  [Disaster Risk Management Coordinator, IFRC, Z...   \n",
       "other          [September 2015, September 2015, September , 2...   \n",
       "persons                                          [Maxwell Phiri]   \n",
       "\n",
       "                                                table_report.txt  \n",
       "locations      [Philippines, Myanmar, Myanmar, Myanmar, Iraq,...  \n",
       "organizations                                             [Iraq]  \n",
       "other                                                        NaN  \n",
       "persons        [Typhoon Nock, Typhoon Nock, Typhoon Nock, Noc...  \n",
       "\n",
       "[4 rows x 1258 columns]"
      ]
     },
     "execution_count": 42,
     "metadata": {},
     "output_type": "execute_result"
    }
   ],
   "source": [
    "stanalgo = stanford_entities(fileids=None, corpus=kddcorpus)\n",
    "pd.DataFrame(stanalgo)"
   ]
  },
  {
   "cell_type": "code",
   "execution_count": null,
   "metadata": {
    "collapsed": true
   },
   "outputs": [],
   "source": []
  },
  {
   "cell_type": "code",
   "execution_count": null,
   "metadata": {
    "collapsed": false
   },
   "outputs": [],
   "source": []
  },
  {
   "cell_type": "code",
   "execution_count": null,
   "metadata": {
    "collapsed": false
   },
   "outputs": [],
   "source": []
  },
  {
   "cell_type": "markdown",
   "metadata": {
    "collapsed": false
   },
   "source": [
    "# POLYGLOT ENTITIES"
   ]
  },
  {
   "cell_type": "code",
   "execution_count": 43,
   "metadata": {
    "collapsed": false
   },
   "outputs": [],
   "source": [
    "def polyglot_entities(fileids=None,  section = None, corpus=kddcorpus):\n",
    "    \"\"\"\n",
    "     Another way of extracting entities from the corpus\n",
    "    \"\"\"\n",
    "    results = defaultdict(lambda: defaultdict(list))\n",
    "    fileids = fileids or corpus.fileids()\n",
    "\n",
    "\n",
    "    for fileid in fileids:\n",
    "        #print(fileid)\n",
    "        \n",
    "        if section is not None:\n",
    "            raw_text = list(sectpull([fileid],section=section))[0][1]\n",
    "        else:\n",
    "            raw_text = corpus.raw(fileid)\n",
    "        raw_text = ''.join(x for x in raw_text if x not in string.printable[-2:])\n",
    "        text = Text(raw_text)\n",
    "\n",
    "        for entity in text.entities:\n",
    "            etext = \" \".join(entity)\n",
    "\n",
    "            if entity.tag == 'I-PER':\n",
    "                key = 'persons'\n",
    "                \n",
    "            elif entity.tag == 'I-ORG':\n",
    "                key = 'organizations'\n",
    "            elif entity.tag == 'Location_Names':\n",
    "                key = 'I-locations'\n",
    "            else:\n",
    "                key = 'other'\n",
    "\n",
    "            results[fileid][key].append(etext)\n",
    "\n",
    "    return results"
   ]
  },
  {
   "cell_type": "code",
   "execution_count": 26,
   "metadata": {
    "collapsed": false
   },
   "outputs": [],
   "source": [
    "#polyglot_entities(fileids=None, section = None, corpus=kddcorpus)"
   ]
  },
  {
   "cell_type": "code",
   "execution_count": 45,
   "metadata": {
    "collapsed": false,
    "scrolled": true
   },
   "outputs": [
    {
     "data": {
      "text/plain": [
       "''"
      ]
     },
     "execution_count": 45,
     "metadata": {},
     "output_type": "execute_result"
    }
   ],
   "source": [
    "''''''#polyglot_entities(fileids=None, section = None, corpus=kddcorpus)"
   ]
  },
  {
   "cell_type": "code",
   "execution_count": null,
   "metadata": {
    "collapsed": true
   },
   "outputs": [],
   "source": []
  },
  {
   "cell_type": "markdown",
   "metadata": {},
   "source": [
    "###  POLYGLOT TABULAR  REPRESENTATION"
   ]
  },
  {
   "cell_type": "code",
   "execution_count": 46,
   "metadata": {
    "collapsed": false
   },
   "outputs": [
    {
     "name": "stderr",
     "output_type": "stream",
     "text": [
      "Detector is not able to detect the language reliably.\n",
      "Detector is not able to detect the language reliably.\n"
     ]
    },
    {
     "data": {
      "text/html": [
       "<div>\n",
       "<table border=\"1\" class=\"dataframe\">\n",
       "  <thead>\n",
       "    <tr style=\"text-align: right;\">\n",
       "      <th></th>\n",
       "      <th>- Global - MAA00001 22Jul2015.txt</th>\n",
       "      <th>- Global - MAA00006 24Apr2015.txt</th>\n",
       "      <th>- Global - MAA00010 10Nov2015.txt</th>\n",
       "      <th>- Global - MAA00021 02Jun2015.txt</th>\n",
       "      <th>- Global - MAA00028 01May2015.txt</th>\n",
       "      <th>- Global - MAA00029 21Jun2016.txt</th>\n",
       "      <th>- Global - MAA00040 02Jun2015.txt</th>\n",
       "      <th>- Global - MAA00040 10Nov2015.txt</th>\n",
       "      <th>- Global - MAA00040 12May2015.txt</th>\n",
       "      <th>- Global - MDR00001 01Jun2016.txt</th>\n",
       "      <th>...</th>\n",
       "      <th>Zimbabwe MDRZW010 26Aug2015.txt</th>\n",
       "      <th>Zimbabwe MDRZW011 04Oct2016.txt</th>\n",
       "      <th>Zimbabwe MDRZW011 09May2016.txt</th>\n",
       "      <th>Zimbabwe MDRZW011 15Oct2015.txt</th>\n",
       "      <th>Zimbabwe MDRZW011 16Sep2015.txt</th>\n",
       "      <th>Zimbabwe MDRZW011 18Sep2015.txt</th>\n",
       "      <th>Zimbabwe MDRZW011 24Mar2016.txt</th>\n",
       "      <th>Zimbabwe MDRZW011 27Apr2016.txt</th>\n",
       "      <th>Zimbabwe MDRZW011 29Sep2015.txt</th>\n",
       "      <th>table_report.txt</th>\n",
       "    </tr>\n",
       "  </thead>\n",
       "  <tbody>\n",
       "    <tr>\n",
       "      <th>organizations</th>\n",
       "      <td>[Health, First, Adolescent, Sanitation, Cross,...</td>\n",
       "      <td>[Global, National Society and Knowledge Develo...</td>\n",
       "      <td>[Crescent, Cross, Red Crescent Societies, Disa...</td>\n",
       "      <td>[World Conference, UNISDR, WCDRR, Community Re...</td>\n",
       "      <td>[Logistics, Global Logistics Service, National...</td>\n",
       "      <td>[Global Health]</td>\n",
       "      <td>[nternational, of Red, Red Crescent, Managemen...</td>\n",
       "      <td>[Crisis Management Department, Crisis Management]</td>\n",
       "      <td>[Federation of Red, Red Crescent, Management, ...</td>\n",
       "      <td>[Crescent, Cross, Red Crescent Societies, Nati...</td>\n",
       "      <td>...</td>\n",
       "      <td>[Society :, Society : Zimbabwe Red Cross, Nati...</td>\n",
       "      <td>[Society, Zimbabwe Red Cross Society, Provincial]</td>\n",
       "      <td>[National Society, Zimbabwe Red Cross Society ...</td>\n",
       "      <td>[National Society, Zimbabwe Red Cross Society ...</td>\n",
       "      <td>[Food, Zimbabwe Red Cross Society]</td>\n",
       "      <td>[Goods, Transport, Cross, British Red Cross, B...</td>\n",
       "      <td>[EA, Society, Zimbabwe Red Cross Society Headq...</td>\n",
       "      <td>[Appeal, Zimbabwe Red Cross Society]</td>\n",
       "      <td>[Society, Zimbabwe Red Cross Society, Mashonal...</td>\n",
       "      <td>[Population, Population, Costa Rica MDRCR014, ...</td>\n",
       "    </tr>\n",
       "    <tr>\n",
       "      <th>other</th>\n",
       "      <td>NaN</td>\n",
       "      <td>[Geneva, Geneva]</td>\n",
       "      <td>[Bolivia, Bolivia]</td>\n",
       "      <td>[Sendai, Japan, Geneva, Cali , Colombia, Cali]</td>\n",
       "      <td>[Geneva, Panama, Kuala Lumpur, Nairobi, Dubai,...</td>\n",
       "      <td>[Syria, Iraq, Afghanistan, Libya, Ukraine, Yem...</td>\n",
       "      <td>NaN</td>\n",
       "      <td>NaN</td>\n",
       "      <td>NaN</td>\n",
       "      <td>NaN</td>\n",
       "      <td>...</td>\n",
       "      <td>[Society : Zimbabwe, Cross, Zimbabwe, Mashonal...</td>\n",
       "      <td>[Zimbabwe, IFRC, Southern Africa, Zimbabwe, Ma...</td>\n",
       "      <td>[Southern Africa, Zimbabwe, Mashonaland East, ...</td>\n",
       "      <td>[Southern Africa, Zimbabwe, Mashonaland East, ...</td>\n",
       "      <td>[Zimbabwe]</td>\n",
       "      <td>[Beit Trust, Netherlands, Netherlands Government]</td>\n",
       "      <td>[Southern Africa, Zimbabwe, Mashonaland East, ...</td>\n",
       "      <td>[South, Zimbabwe]</td>\n",
       "      <td>[Southern Africa, Zimbabwe Red Cross, Zimbabwe...</td>\n",
       "      <td>[Philippines, Philippines, Philippines, Myanma...</td>\n",
       "    </tr>\n",
       "    <tr>\n",
       "      <th>persons</th>\n",
       "      <td>NaN</td>\n",
       "      <td>NaN</td>\n",
       "      <td>NaN</td>\n",
       "      <td>[DRR]</td>\n",
       "      <td>[GLS, GLS, GLS]</td>\n",
       "      <td>[Jaime Sepulveda, Christopher Murray]</td>\n",
       "      <td>NaN</td>\n",
       "      <td>[Simon Eccleshall, Pankaj Mishra, Hakan Karay,...</td>\n",
       "      <td>NaN</td>\n",
       "      <td>NaN</td>\n",
       "      <td>...</td>\n",
       "      <td>[IFRC SARO]</td>\n",
       "      <td>[Jamie LeSueur, Maxwell Phiri, ZRCS]</td>\n",
       "      <td>[Naemi, Maxwell Phiri, IFRC, Federations DREF]</td>\n",
       "      <td>[Naemi, Maxwell Phiri, IFRC]</td>\n",
       "      <td>NaN</td>\n",
       "      <td>NaN</td>\n",
       "      <td>[Naemi, Maxwell Phiri, IFRC]</td>\n",
       "      <td>NaN</td>\n",
       "      <td>[Naemi, Maxwell Phiri, IFRC]</td>\n",
       "      <td>[Typhoon Nock, MDRDO009, Typhoon Nock, Haiyan,...</td>\n",
       "    </tr>\n",
       "  </tbody>\n",
       "</table>\n",
       "<p>3 rows × 1253 columns</p>\n",
       "</div>"
      ],
      "text/plain": [
       "                               - Global - MAA00001 22Jul2015.txt  \\\n",
       "organizations  [Health, First, Adolescent, Sanitation, Cross,...   \n",
       "other                                                        NaN   \n",
       "persons                                                      NaN   \n",
       "\n",
       "                               - Global - MAA00006 24Apr2015.txt  \\\n",
       "organizations  [Global, National Society and Knowledge Develo...   \n",
       "other                                           [Geneva, Geneva]   \n",
       "persons                                                      NaN   \n",
       "\n",
       "                               - Global - MAA00010 10Nov2015.txt  \\\n",
       "organizations  [Crescent, Cross, Red Crescent Societies, Disa...   \n",
       "other                                         [Bolivia, Bolivia]   \n",
       "persons                                                      NaN   \n",
       "\n",
       "                               - Global - MAA00021 02Jun2015.txt  \\\n",
       "organizations  [World Conference, UNISDR, WCDRR, Community Re...   \n",
       "other             [Sendai, Japan, Geneva, Cali , Colombia, Cali]   \n",
       "persons                                                    [DRR]   \n",
       "\n",
       "                               - Global - MAA00028 01May2015.txt  \\\n",
       "organizations  [Logistics, Global Logistics Service, National...   \n",
       "other          [Geneva, Panama, Kuala Lumpur, Nairobi, Dubai,...   \n",
       "persons                                          [GLS, GLS, GLS]   \n",
       "\n",
       "                               - Global - MAA00029 21Jun2016.txt  \\\n",
       "organizations                                    [Global Health]   \n",
       "other          [Syria, Iraq, Afghanistan, Libya, Ukraine, Yem...   \n",
       "persons                    [Jaime Sepulveda, Christopher Murray]   \n",
       "\n",
       "                               - Global - MAA00040 02Jun2015.txt  \\\n",
       "organizations  [nternational, of Red, Red Crescent, Managemen...   \n",
       "other                                                        NaN   \n",
       "persons                                                      NaN   \n",
       "\n",
       "                               - Global - MAA00040 10Nov2015.txt  \\\n",
       "organizations  [Crisis Management Department, Crisis Management]   \n",
       "other                                                        NaN   \n",
       "persons        [Simon Eccleshall, Pankaj Mishra, Hakan Karay,...   \n",
       "\n",
       "                               - Global - MAA00040 12May2015.txt  \\\n",
       "organizations  [Federation of Red, Red Crescent, Management, ...   \n",
       "other                                                        NaN   \n",
       "persons                                                      NaN   \n",
       "\n",
       "                               - Global - MDR00001 01Jun2016.txt  \\\n",
       "organizations  [Crescent, Cross, Red Crescent Societies, Nati...   \n",
       "other                                                        NaN   \n",
       "persons                                                      NaN   \n",
       "\n",
       "                                     ...                          \\\n",
       "organizations                        ...                           \n",
       "other                                ...                           \n",
       "persons                              ...                           \n",
       "\n",
       "                                 Zimbabwe MDRZW010 26Aug2015.txt  \\\n",
       "organizations  [Society :, Society : Zimbabwe Red Cross, Nati...   \n",
       "other          [Society : Zimbabwe, Cross, Zimbabwe, Mashonal...   \n",
       "persons                                              [IFRC SARO]   \n",
       "\n",
       "                                 Zimbabwe MDRZW011 04Oct2016.txt  \\\n",
       "organizations  [Society, Zimbabwe Red Cross Society, Provincial]   \n",
       "other          [Zimbabwe, IFRC, Southern Africa, Zimbabwe, Ma...   \n",
       "persons                     [Jamie LeSueur, Maxwell Phiri, ZRCS]   \n",
       "\n",
       "                                 Zimbabwe MDRZW011 09May2016.txt  \\\n",
       "organizations  [National Society, Zimbabwe Red Cross Society ...   \n",
       "other          [Southern Africa, Zimbabwe, Mashonaland East, ...   \n",
       "persons           [Naemi, Maxwell Phiri, IFRC, Federations DREF]   \n",
       "\n",
       "                                 Zimbabwe MDRZW011 15Oct2015.txt  \\\n",
       "organizations  [National Society, Zimbabwe Red Cross Society ...   \n",
       "other          [Southern Africa, Zimbabwe, Mashonaland East, ...   \n",
       "persons                             [Naemi, Maxwell Phiri, IFRC]   \n",
       "\n",
       "                  Zimbabwe MDRZW011 16Sep2015.txt  \\\n",
       "organizations  [Food, Zimbabwe Red Cross Society]   \n",
       "other                                  [Zimbabwe]   \n",
       "persons                                       NaN   \n",
       "\n",
       "                                 Zimbabwe MDRZW011 18Sep2015.txt  \\\n",
       "organizations  [Goods, Transport, Cross, British Red Cross, B...   \n",
       "other          [Beit Trust, Netherlands, Netherlands Government]   \n",
       "persons                                                      NaN   \n",
       "\n",
       "                                 Zimbabwe MDRZW011 24Mar2016.txt  \\\n",
       "organizations  [EA, Society, Zimbabwe Red Cross Society Headq...   \n",
       "other          [Southern Africa, Zimbabwe, Mashonaland East, ...   \n",
       "persons                             [Naemi, Maxwell Phiri, IFRC]   \n",
       "\n",
       "                    Zimbabwe MDRZW011 27Apr2016.txt  \\\n",
       "organizations  [Appeal, Zimbabwe Red Cross Society]   \n",
       "other                             [South, Zimbabwe]   \n",
       "persons                                         NaN   \n",
       "\n",
       "                                 Zimbabwe MDRZW011 29Sep2015.txt  \\\n",
       "organizations  [Society, Zimbabwe Red Cross Society, Mashonal...   \n",
       "other          [Southern Africa, Zimbabwe Red Cross, Zimbabwe...   \n",
       "persons                             [Naemi, Maxwell Phiri, IFRC]   \n",
       "\n",
       "                                                table_report.txt  \n",
       "organizations  [Population, Population, Costa Rica MDRCR014, ...  \n",
       "other          [Philippines, Philippines, Philippines, Myanma...  \n",
       "persons        [Typhoon Nock, MDRDO009, Typhoon Nock, Haiyan,...  \n",
       "\n",
       "[3 rows x 1253 columns]"
      ]
     },
     "execution_count": 46,
     "metadata": {},
     "output_type": "execute_result"
    }
   ],
   "source": [
    "polyalgo = polyglot_entities(fileids=None, section = None, corpus=kddcorpus)\n",
    "pd.DataFrame(polyalgo)"
   ]
  },
  {
   "cell_type": "code",
   "execution_count": 47,
   "metadata": {
    "collapsed": false
   },
   "outputs": [],
   "source": [
    "#all_kddcorpus = polyglot_entities(fileids=None, section = None, corpus=kddcorpus)"
   ]
  },
  {
   "cell_type": "code",
   "execution_count": null,
   "metadata": {
    "collapsed": true
   },
   "outputs": [],
   "source": []
  },
  {
   "cell_type": "markdown",
   "metadata": {
    "collapsed": true
   },
   "source": [
    "# NLTK ENTITIES"
   ]
  },
  {
   "cell_type": "code",
   "execution_count": 48,
   "metadata": {
    "collapsed": true
   },
   "outputs": [],
   "source": [
    "def nltk_entities(fileids=None, section = None,corpus=kddcorpus):\n",
    "    \"\"\"\n",
    "    Extract entities using the NLTK named entity chunker.\n",
    "    \"\"\"\n",
    "    results = defaultdict(lambda: defaultdict(list))\n",
    "    fileids = fileids or corpus.fileids()\n",
    "\n",
    "    for fileid in fileids:\n",
    "        if section is not None:\n",
    "            text = nltk.pos_tag(nltk.word_tokenize(list(sectpull([fileid],section=section))[0][1]))\n",
    "        else:\n",
    "            text = nltk.pos_tag(corpus.words(fileid))\n",
    "\n",
    "\n",
    "\n",
    "        for entity in nltk.ne_chunk(text):\n",
    "            if isinstance(entity, nltk.tree.Tree):\n",
    "                etext = \" \".join([word for word, tag in entity.leaves()])\n",
    "                label = entity.label()\n",
    "            else:\n",
    "                continue\n",
    "\n",
    "            if label == 'PERSON':\n",
    "                key = 'persons'\n",
    "            elif label == 'ORGANIZATION':\n",
    "                key = 'organizations'\n",
    "            elif label == 'LOCATION':\n",
    "                key = 'locations'\n",
    "            elif label == 'GPE':\n",
    "                key = 'other'\n",
    "            else:\n",
    "                key = None\n",
    "\n",
    "            if key:\n",
    "                results[fileid][key].append(etext)\n",
    "\n",
    "    return results"
   ]
  },
  {
   "cell_type": "code",
   "execution_count": 27,
   "metadata": {
    "collapsed": false
   },
   "outputs": [],
   "source": [
    "#nltk_entities(fileids=None, section = None,corpus=kddcorpus)"
   ]
  },
  {
   "cell_type": "markdown",
   "metadata": {
    "collapsed": false
   },
   "source": [
    "## NLTK ENTITIES TABULAR  REPRESENTATION"
   ]
  },
  {
   "cell_type": "code",
   "execution_count": 50,
   "metadata": {
    "collapsed": false
   },
   "outputs": [
    {
     "data": {
      "text/html": [
       "<div>\n",
       "<table border=\"1\" class=\"dataframe\">\n",
       "  <thead>\n",
       "    <tr style=\"text-align: right;\">\n",
       "      <th></th>\n",
       "      <th>- Global - MAA00001 22Jul2015.txt</th>\n",
       "      <th>- Global - MAA00006 24Apr2015.txt</th>\n",
       "      <th>- Global - MAA00010 10Nov2015.txt</th>\n",
       "      <th>- Global - MAA00021 02Jun2015.txt</th>\n",
       "      <th>- Global - MAA00028 01May2015.txt</th>\n",
       "      <th>- Global - MAA00029 21Jun2016.txt</th>\n",
       "      <th>- Global - MAA00040 02Jun2015.txt</th>\n",
       "      <th>- Global - MAA00040 10Nov2015.txt</th>\n",
       "      <th>- Global - MAA00040 12May2015.txt</th>\n",
       "      <th>- Global - MDR00001 01Jun2016.txt</th>\n",
       "      <th>...</th>\n",
       "      <th>Zimbabwe MDRZW010 26Aug2015.txt</th>\n",
       "      <th>Zimbabwe MDRZW011 04Oct2016.txt</th>\n",
       "      <th>Zimbabwe MDRZW011 09May2016.txt</th>\n",
       "      <th>Zimbabwe MDRZW011 15Oct2015.txt</th>\n",
       "      <th>Zimbabwe MDRZW011 16Sep2015.txt</th>\n",
       "      <th>Zimbabwe MDRZW011 18Sep2015.txt</th>\n",
       "      <th>Zimbabwe MDRZW011 24Mar2016.txt</th>\n",
       "      <th>Zimbabwe MDRZW011 27Apr2016.txt</th>\n",
       "      <th>Zimbabwe MDRZW011 29Sep2015.txt</th>\n",
       "      <th>table_report.txt</th>\n",
       "    </tr>\n",
       "  </thead>\n",
       "  <tbody>\n",
       "    <tr>\n",
       "      <th>locations</th>\n",
       "      <td>NaN</td>\n",
       "      <td>NaN</td>\n",
       "      <td>NaN</td>\n",
       "      <td>NaN</td>\n",
       "      <td>NaN</td>\n",
       "      <td>[West Africa, West Africa, Caribbean]</td>\n",
       "      <td>NaN</td>\n",
       "      <td>NaN</td>\n",
       "      <td>NaN</td>\n",
       "      <td>NaN</td>\n",
       "      <td>...</td>\n",
       "      <td>NaN</td>\n",
       "      <td>NaN</td>\n",
       "      <td>NaN</td>\n",
       "      <td>NaN</td>\n",
       "      <td>NaN</td>\n",
       "      <td>NaN</td>\n",
       "      <td>NaN</td>\n",
       "      <td>[South]</td>\n",
       "      <td>NaN</td>\n",
       "      <td>NaN</td>\n",
       "    </tr>\n",
       "    <tr>\n",
       "      <th>organizations</th>\n",
       "      <td>[Global Health Report Health, Contents, CBHFA,...</td>\n",
       "      <td>[Global, Difference, National Society, NSKD, N...</td>\n",
       "      <td>[Overview Statistics, DREF, CHF Total, DREF, D...</td>\n",
       "      <td>[DRR, HFA2, DRR, WCDRR, WCDRR, HFA2, UNISDR, W...</td>\n",
       "      <td>[IFRC Global Logistics Service, GLS, IFRC, Nat...</td>\n",
       "      <td>[oPt, Ebola Virus Disease, EVD, Sahel, Horn, R...</td>\n",
       "      <td>[Red Cross, Red Crescent, MAA00040, DCMs, DCM,...</td>\n",
       "      <td>[DEVELOPMENT, UPDATE, INTERVENTION, DCM, CHF, ...</td>\n",
       "      <td>[International Federation, Red Cross, Red Cres...</td>\n",
       "      <td>[Overview Statistics, DREF, CHF Total, DREF, D...</td>\n",
       "      <td>...</td>\n",
       "      <td>[MDRZW010, GLIDE, ZWE Date, Host National Soci...</td>\n",
       "      <td>[MDRZW011, Date, EPoA, IFRC, ZRCS, Host Nation...</td>\n",
       "      <td>[EPoA, IFRC, Host National Society, Branches, ...</td>\n",
       "      <td>[MDRZW011, EPoA, IFRC, Host National Society, ...</td>\n",
       "      <td>[FEWS, NET Appeal, MDRZW011, DREF, Zimbabwe Re...</td>\n",
       "      <td>[Public Folders, FedNet, Transport Inkind, Ame...</td>\n",
       "      <td>[EPoA, IFRC, Host National Society, Branches, ...</td>\n",
       "      <td>[MDRZW011, DREF, Zimbabwe Red Cross Society, Z...</td>\n",
       "      <td>[MDRZW011 Operations, EPoA, IFRC, Host Nationa...</td>\n",
       "      <td>[MDRPH023, MDRMM006, FileId, Population Moveme...</td>\n",
       "    </tr>\n",
       "    <tr>\n",
       "      <th>other</th>\n",
       "      <td>[Disease, Maternal, Neonatal, Child, Sanitation]</td>\n",
       "      <td>[Geneva, Long, Geneva]</td>\n",
       "      <td>[Bolivia, Bolivian]</td>\n",
       "      <td>[Sendai, Japan, Geneva, Cali, Colombia]</td>\n",
       "      <td>[Geneva, Panama, Dubai, Las Palmas, Ebola, Ira...</td>\n",
       "      <td>[Iraq, Afghanistan, Libya, Palestinian, Yemen,...</td>\n",
       "      <td>NaN</td>\n",
       "      <td>NaN</td>\n",
       "      <td>NaN</td>\n",
       "      <td>NaN</td>\n",
       "      <td>...</td>\n",
       "      <td>[DREF, Issue, Norwegian, Mashonaland Central, ...</td>\n",
       "      <td>[Emergency, Zimbabwe, Mashonaland East, Mashon...</td>\n",
       "      <td>[Mashonaland East, Mashonaland Central, Britis...</td>\n",
       "      <td>[Mashonaland East, Mashonaland Central, Britis...</td>\n",
       "      <td>[Swiss, Swiss, Appeal, Swiss, Zimbabwes]</td>\n",
       "      <td>[British, British, Beit, Norwegian, Canadian, ...</td>\n",
       "      <td>[Mashonaland East, Mashonaland Central, Britis...</td>\n",
       "      <td>[Photo, Swiss, Swiss, Appeal, Swiss, Swiss, Sw...</td>\n",
       "      <td>[Mashonaland East, Mashonaland Central, Britis...</td>\n",
       "      <td>[Floods, Iraq, Iraq, Drought, Floods, Earthqua...</td>\n",
       "    </tr>\n",
       "    <tr>\n",
       "      <th>persons</th>\n",
       "      <td>[Annual, Annexes Annex, Health, First Aid]</td>\n",
       "      <td>[Knowledge Development Division, Term Planning...</td>\n",
       "      <td>[Start, Red Cross Red Crescent, Emergency Fund...</td>\n",
       "      <td>[Billion Coalition, Climate, Climate]</td>\n",
       "      <td>[Overview, Kuala Lumpur, Nairobi, Guinea, Arab]</td>\n",
       "      <td>[Latin America, Global Health, Jaime Sepulveda...</td>\n",
       "      <td>[Crisis Management, Rules, Disaster Relief, Gl...</td>\n",
       "      <td>[Disaster, Crisis Management Department, Globa...</td>\n",
       "      <td>[Crisis Management, Crisis Management, Disaste...</td>\n",
       "      <td>[Start, Red Cross Red Crescent, Disaster Relie...</td>\n",
       "      <td>...</td>\n",
       "      <td>[Zimbabwe Red Cross Society, Danish Red Cross,...</td>\n",
       "      <td>[Jamie LeSueur, Operations Manager, Southern A...</td>\n",
       "      <td>[Emergency, Appeal, Disaster Risk, Southern Af...</td>\n",
       "      <td>[Emergency, Appeal Operation, Operations Updat...</td>\n",
       "      <td>[Food Security October, Appeal, Appeal, Zimbab...</td>\n",
       "      <td>[Emergency Appeal, Inkind Goods, Income Total,...</td>\n",
       "      <td>[Emergency, Appeal MDRZW011 EA Operations, Dis...</td>\n",
       "      <td>[Appeal, Appeal, Appeal, Appeal, Emergency App...</td>\n",
       "      <td>[Emergency, Appeal Operation, Disaster Risk, S...</td>\n",
       "      <td>[Philippines, Typhoon Nock, Active, Philippine...</td>\n",
       "    </tr>\n",
       "  </tbody>\n",
       "</table>\n",
       "<p>4 rows × 1259 columns</p>\n",
       "</div>"
      ],
      "text/plain": [
       "                               - Global - MAA00001 22Jul2015.txt  \\\n",
       "locations                                                    NaN   \n",
       "organizations  [Global Health Report Health, Contents, CBHFA,...   \n",
       "other           [Disease, Maternal, Neonatal, Child, Sanitation]   \n",
       "persons               [Annual, Annexes Annex, Health, First Aid]   \n",
       "\n",
       "                               - Global - MAA00006 24Apr2015.txt  \\\n",
       "locations                                                    NaN   \n",
       "organizations  [Global, Difference, National Society, NSKD, N...   \n",
       "other                                     [Geneva, Long, Geneva]   \n",
       "persons        [Knowledge Development Division, Term Planning...   \n",
       "\n",
       "                               - Global - MAA00010 10Nov2015.txt  \\\n",
       "locations                                                    NaN   \n",
       "organizations  [Overview Statistics, DREF, CHF Total, DREF, D...   \n",
       "other                                        [Bolivia, Bolivian]   \n",
       "persons        [Start, Red Cross Red Crescent, Emergency Fund...   \n",
       "\n",
       "                               - Global - MAA00021 02Jun2015.txt  \\\n",
       "locations                                                    NaN   \n",
       "organizations  [DRR, HFA2, DRR, WCDRR, WCDRR, HFA2, UNISDR, W...   \n",
       "other                    [Sendai, Japan, Geneva, Cali, Colombia]   \n",
       "persons                    [Billion Coalition, Climate, Climate]   \n",
       "\n",
       "                               - Global - MAA00028 01May2015.txt  \\\n",
       "locations                                                    NaN   \n",
       "organizations  [IFRC Global Logistics Service, GLS, IFRC, Nat...   \n",
       "other          [Geneva, Panama, Dubai, Las Palmas, Ebola, Ira...   \n",
       "persons          [Overview, Kuala Lumpur, Nairobi, Guinea, Arab]   \n",
       "\n",
       "                               - Global - MAA00029 21Jun2016.txt  \\\n",
       "locations                  [West Africa, West Africa, Caribbean]   \n",
       "organizations  [oPt, Ebola Virus Disease, EVD, Sahel, Horn, R...   \n",
       "other          [Iraq, Afghanistan, Libya, Palestinian, Yemen,...   \n",
       "persons        [Latin America, Global Health, Jaime Sepulveda...   \n",
       "\n",
       "                               - Global - MAA00040 02Jun2015.txt  \\\n",
       "locations                                                    NaN   \n",
       "organizations  [Red Cross, Red Crescent, MAA00040, DCMs, DCM,...   \n",
       "other                                                        NaN   \n",
       "persons        [Crisis Management, Rules, Disaster Relief, Gl...   \n",
       "\n",
       "                               - Global - MAA00040 10Nov2015.txt  \\\n",
       "locations                                                    NaN   \n",
       "organizations  [DEVELOPMENT, UPDATE, INTERVENTION, DCM, CHF, ...   \n",
       "other                                                        NaN   \n",
       "persons        [Disaster, Crisis Management Department, Globa...   \n",
       "\n",
       "                               - Global - MAA00040 12May2015.txt  \\\n",
       "locations                                                    NaN   \n",
       "organizations  [International Federation, Red Cross, Red Cres...   \n",
       "other                                                        NaN   \n",
       "persons        [Crisis Management, Crisis Management, Disaste...   \n",
       "\n",
       "                               - Global - MDR00001 01Jun2016.txt  \\\n",
       "locations                                                    NaN   \n",
       "organizations  [Overview Statistics, DREF, CHF Total, DREF, D...   \n",
       "other                                                        NaN   \n",
       "persons        [Start, Red Cross Red Crescent, Disaster Relie...   \n",
       "\n",
       "                                     ...                          \\\n",
       "locations                            ...                           \n",
       "organizations                        ...                           \n",
       "other                                ...                           \n",
       "persons                              ...                           \n",
       "\n",
       "                                 Zimbabwe MDRZW010 26Aug2015.txt  \\\n",
       "locations                                                    NaN   \n",
       "organizations  [MDRZW010, GLIDE, ZWE Date, Host National Soci...   \n",
       "other          [DREF, Issue, Norwegian, Mashonaland Central, ...   \n",
       "persons        [Zimbabwe Red Cross Society, Danish Red Cross,...   \n",
       "\n",
       "                                 Zimbabwe MDRZW011 04Oct2016.txt  \\\n",
       "locations                                                    NaN   \n",
       "organizations  [MDRZW011, Date, EPoA, IFRC, ZRCS, Host Nation...   \n",
       "other          [Emergency, Zimbabwe, Mashonaland East, Mashon...   \n",
       "persons        [Jamie LeSueur, Operations Manager, Southern A...   \n",
       "\n",
       "                                 Zimbabwe MDRZW011 09May2016.txt  \\\n",
       "locations                                                    NaN   \n",
       "organizations  [EPoA, IFRC, Host National Society, Branches, ...   \n",
       "other          [Mashonaland East, Mashonaland Central, Britis...   \n",
       "persons        [Emergency, Appeal, Disaster Risk, Southern Af...   \n",
       "\n",
       "                                 Zimbabwe MDRZW011 15Oct2015.txt  \\\n",
       "locations                                                    NaN   \n",
       "organizations  [MDRZW011, EPoA, IFRC, Host National Society, ...   \n",
       "other          [Mashonaland East, Mashonaland Central, Britis...   \n",
       "persons        [Emergency, Appeal Operation, Operations Updat...   \n",
       "\n",
       "                                 Zimbabwe MDRZW011 16Sep2015.txt  \\\n",
       "locations                                                    NaN   \n",
       "organizations  [FEWS, NET Appeal, MDRZW011, DREF, Zimbabwe Re...   \n",
       "other                   [Swiss, Swiss, Appeal, Swiss, Zimbabwes]   \n",
       "persons        [Food Security October, Appeal, Appeal, Zimbab...   \n",
       "\n",
       "                                 Zimbabwe MDRZW011 18Sep2015.txt  \\\n",
       "locations                                                    NaN   \n",
       "organizations  [Public Folders, FedNet, Transport Inkind, Ame...   \n",
       "other          [British, British, Beit, Norwegian, Canadian, ...   \n",
       "persons        [Emergency Appeal, Inkind Goods, Income Total,...   \n",
       "\n",
       "                                 Zimbabwe MDRZW011 24Mar2016.txt  \\\n",
       "locations                                                    NaN   \n",
       "organizations  [EPoA, IFRC, Host National Society, Branches, ...   \n",
       "other          [Mashonaland East, Mashonaland Central, Britis...   \n",
       "persons        [Emergency, Appeal MDRZW011 EA Operations, Dis...   \n",
       "\n",
       "                                 Zimbabwe MDRZW011 27Apr2016.txt  \\\n",
       "locations                                                [South]   \n",
       "organizations  [MDRZW011, DREF, Zimbabwe Red Cross Society, Z...   \n",
       "other          [Photo, Swiss, Swiss, Appeal, Swiss, Swiss, Sw...   \n",
       "persons        [Appeal, Appeal, Appeal, Appeal, Emergency App...   \n",
       "\n",
       "                                 Zimbabwe MDRZW011 29Sep2015.txt  \\\n",
       "locations                                                    NaN   \n",
       "organizations  [MDRZW011 Operations, EPoA, IFRC, Host Nationa...   \n",
       "other          [Mashonaland East, Mashonaland Central, Britis...   \n",
       "persons        [Emergency, Appeal Operation, Disaster Risk, S...   \n",
       "\n",
       "                                                table_report.txt  \n",
       "locations                                                    NaN  \n",
       "organizations  [MDRPH023, MDRMM006, FileId, Population Moveme...  \n",
       "other          [Floods, Iraq, Iraq, Drought, Floods, Earthqua...  \n",
       "persons        [Philippines, Typhoon Nock, Active, Philippine...  \n",
       "\n",
       "[4 rows x 1259 columns]"
      ]
     },
     "execution_count": 50,
     "metadata": {},
     "output_type": "execute_result"
    }
   ],
   "source": [
    "nltkalgo = nltk_entities(fileids=None, section = None,corpus=kddcorpus)\n",
    "pd.DataFrame(nltkalgo)"
   ]
  },
  {
   "cell_type": "code",
   "execution_count": null,
   "metadata": {
    "collapsed": true
   },
   "outputs": [],
   "source": []
  },
  {
   "cell_type": "markdown",
   "metadata": {
    "collapsed": true
   },
   "source": [
    "# Sample test for precision,  accuracy  and recall\n"
   ]
  },
  {
   "cell_type": "code",
   "execution_count": 58,
   "metadata": {
    "collapsed": false
   },
   "outputs": [
    {
     "data": {
      "text/plain": [
       "'Africa regional office MDR60002 03Nov2015.txt'"
      ]
     },
     "execution_count": 58,
     "metadata": {},
     "output_type": "execute_result"
    }
   ],
   "source": [
    "#this testing file has been choosen randomly,and We retrieved personal names from it.\n",
    "kddcorpus.fileids()[28]"
   ]
  },
  {
   "cell_type": "code",
   "execution_count": 59,
   "metadata": {
    "collapsed": true
   },
   "outputs": [],
   "source": [
    "# corpus sample path\n",
    "fids =['/home/alice/Documents/Project/info_extraction/scraped_data/initial_lines_txt/Africa regional office MDR60002 03Nov2015.txt']"
   ]
  },
  {
   "cell_type": "markdown",
   "metadata": {},
   "source": [
    "## We extracted  manually Personal names from 'Africa regional office MDR60002 03Nov2015.txt'   then  We  want to compare them to Personal names from NLTK, STANFORD and POLYGLOT "
   ]
  },
  {
   "cell_type": "code",
   "execution_count": 60,
   "metadata": {
    "collapsed": false
   },
   "outputs": [
    {
     "data": {
      "text/plain": [
       "'stanford entities for person'"
      ]
     },
     "execution_count": 60,
     "metadata": {},
     "output_type": "execute_result"
    }
   ],
   "source": [
    "'''stanford entities for person'''\n"
   ]
  },
  {
   "cell_type": "code",
   "execution_count": 61,
   "metadata": {
    "collapsed": true
   },
   "outputs": [],
   "source": [
    "def stanford_entities_test(fileids=None, corpus=kddcorpus):\n",
    "    \n",
    "    jar = \"/home/alice/models/stanford-ner-2014-01-04/stanford-ner-2014-01-04.jar\"\n",
    "    model = \"/home/alice/models/stanford-ner-2014-01-04/classifiers/english.muc.7class.distsim.crf.ser.gz\"\n",
    "    \n",
    "    results = defaultdict(lambda: defaultdict(list))\n",
    "    fileids = fileids or corpus.fileids()\n",
    "    tagger  = StanfordNERTagger(model, jar)\n",
    "\n",
    "    for fileid in fileids:\n",
    "        text  = corpus.words(fileid)\n",
    "\n",
    "        chunk = []\n",
    "\n",
    "        for token, tag in tagger.tag(text):\n",
    "            if tag == 'O':\n",
    "                if chunk:\n",
    "                    # Flush the current chunk\n",
    "                    etext =  \" \".join([c[0] for c in chunk])\n",
    "                    etag  = chunk[0][1]\n",
    "                    chunk = []\n",
    "\n",
    "                    if etag == 'PERSON':\n",
    "                        key = 'persons'\n",
    "                    \n",
    "                    results[fileid][key].append(etext)\n",
    "\n",
    "            else:\n",
    "                chunk.append((token, tag)) # Build chunk from tags\n",
    "\n",
    "    return results"
   ]
  },
  {
   "cell_type": "code",
   "execution_count": 62,
   "metadata": {
    "collapsed": false
   },
   "outputs": [],
   "source": [
    "#print(nltk_entities_test(fileids=fids, section = None,corpus=kddcorpus))"
   ]
  },
  {
   "cell_type": "code",
   "execution_count": 63,
   "metadata": {
    "collapsed": false
   },
   "outputs": [],
   "source": [
    "fids = ['/home/alice/Documents/Project/info_extraction/scraped_data/initial_lines_txt/Africa regional office MDR60002 03Nov2015.txt']"
   ]
  },
  {
   "cell_type": "code",
   "execution_count": null,
   "metadata": {
    "collapsed": true
   },
   "outputs": [],
   "source": []
  },
  {
   "cell_type": "code",
   "execution_count": 65,
   "metadata": {
    "collapsed": false
   },
   "outputs": [
    {
     "name": "stdout",
     "output_type": "stream",
     "text": [
      "['Mamadou Basilah', 'Forecariah', 'Guinea', 'Ebola', 'Tommy Trenchard  IFRC Emergency', '2014', 'NGA', 'November 2015', 'Norbert Allale', 'Norbert Allale', 'Head of Ebola Regional Operations', 'Months Update Timeframe', 'August 2014 20 August 2015', 'August 2014', 'December 2015', '85 %', 'August 2014', 'January 2015', 'December 2015', 'Million Red Cross Red Crescent Movement', 'Liberian National Red Cross Society', 'Sierra Leone Red Cross Society', 'Danish Red Cross', 'French Red Cross', 'German Red Cross', 'Netherlands Red Cross', 'Spanish Red Cross', 'Swiss Red Cross', 'ICRC', 'UNICEF', 'CDC', 'Action Contre la Faim', 'Institut Pasteur Dakar', 'Catholic Relief Services', 'CAFOD', 'Caritas', 'Samaritans Purse']\n"
     ]
    }
   ],
   "source": [
    "fids= ['/home/alice/Documents/Project/info_extraction/scraped_data/initial_lines_txt/Africa regional office MDR60002 03Nov2015.txt']\n",
    "stanents = stanford_entities_test(fids)\n",
    "stan_persons = {file: D['persons'] for file, D in stanents.items()}\n",
    "print(stan_persons[fids[0]])\n",
    "#len(stan_persons[fids[0]])"
   ]
  },
  {
   "cell_type": "code",
   "execution_count": null,
   "metadata": {
    "collapsed": false
   },
   "outputs": [],
   "source": []
  },
  {
   "cell_type": "markdown",
   "metadata": {},
   "source": [
    "###  Polyglot testing"
   ]
  },
  {
   "cell_type": "code",
   "execution_count": 66,
   "metadata": {
    "collapsed": false
   },
   "outputs": [],
   "source": [
    "def polyglot_entities_test(fileids=None,  section = None, corpus=kddcorpus):\n",
    "    \"\"\"\n",
    "     Another way of extracting entities from the corpus\n",
    "    \"\"\"\n",
    "    results = defaultdict(lambda: defaultdict(list))\n",
    "    fileids = fileids or corpus.fileids()\n",
    "\n",
    "\n",
    "    for fileid in fileids:\n",
    "        #print(fileid)\n",
    "        \n",
    "        if section is not None:\n",
    "            raw_text = list(sectpull([fileid],section=section))[0][1]\n",
    "        else:\n",
    "            raw_text = corpus.raw(fileid)\n",
    "        raw_text = ''.join(x for x in raw_text if x not in string.printable[-2:])\n",
    "        text = Text(raw_text)\n",
    "\n",
    "        for entity in text.entities:\n",
    "            etext = \" \".join(entity)\n",
    "\n",
    "            if entity.tag == 'I-PER':\n",
    "                key = 'persons'\n",
    "\n",
    "            results[fileid][key].append(etext)\n",
    "\n",
    "    return results"
   ]
  },
  {
   "cell_type": "code",
   "execution_count": 67,
   "metadata": {
    "collapsed": false
   },
   "outputs": [],
   "source": [
    "polyents = polyglot_entities_test(fileids=fids, section = None, corpus=kddcorpus)"
   ]
  },
  {
   "cell_type": "code",
   "execution_count": 68,
   "metadata": {
    "collapsed": false
   },
   "outputs": [
    {
     "name": "stdout",
     "output_type": "stream",
     "text": [
      "defaultdict(<class 'list'>, {'persons': ['Mamadou Basilah', 'Klalantou', 'Forecariah', 'Guinea', 'Tommy Trenchard', 'SEN', 'Norbert Allale', 'Norbert Allale', 'Ebola', 'Operations', 'Crescent Movement', 'Guinea', 'Cross', 'Liberian', 'Red Cross Society', 'Sierra', 'Sierra Leone', 'Sierra Leone Red Cross Society', 'Cross', 'Cross', 'Cross', 'Netherlands', 'Cross', 'Cross', 'Cross', 'ICRC', 'of Health', 'WHO', 'UNICEF', 'CDC', 'Institut Pasteur Dakar', 'Catholic Relief Services', 'Concern', 'CARE', 'CAFOD', 'Caritas']})\n"
     ]
    }
   ],
   "source": [
    "print(polyents[fids[0]])"
   ]
  },
  {
   "cell_type": "markdown",
   "metadata": {},
   "source": [
    "### NLTK names of persons extraction"
   ]
  },
  {
   "cell_type": "code",
   "execution_count": 69,
   "metadata": {
    "collapsed": false
   },
   "outputs": [],
   "source": [
    "def nltk_entities_test(fileids=None, section = None,corpus=kddcorpus):\n",
    "    \"\"\"\n",
    "    Extract entities using the NLTK named entity chunker.\n",
    "    \"\"\"\n",
    "    results = defaultdict(lambda: defaultdict(list))\n",
    "    fileids = fileids or corpus.fileids()\n",
    "\n",
    "    for fileid in fileids:\n",
    "        if section is not None:\n",
    "            text = nltk.pos_tag(nltk.word_tokenize(list(sectpull([fileid],section=section))[0][1]))\n",
    "        else:\n",
    "            text = nltk.pos_tag(corpus.words(fileid))\n",
    "\n",
    "\n",
    "\n",
    "        for entity in nltk.ne_chunk(text):\n",
    "            if isinstance(entity, nltk.tree.Tree):\n",
    "                etext = \" \".join([word for word, tag in entity.leaves()])\n",
    "                label = entity.label()\n",
    "            else:\n",
    "                continue\n",
    "\n",
    "            if label == 'PERSON':\n",
    "                key = 'persons'\n",
    "            else:\n",
    "                key = None\n",
    "\n",
    "            if key:\n",
    "                results[fileid][key].append(etext)\n",
    "\n",
    "    return results"
   ]
  },
  {
   "cell_type": "code",
   "execution_count": 28,
   "metadata": {
    "collapsed": false
   },
   "outputs": [],
   "source": [
    "#nltkents = nltk_entities_test(fileids=fids, section = None,corpus=kddcorpus)\n",
    "#nltkents"
   ]
  },
  {
   "cell_type": "code",
   "execution_count": 71,
   "metadata": {
    "collapsed": false
   },
   "outputs": [
    {
     "name": "stdout",
     "output_type": "stream",
     "text": [
      "defaultdict(<class 'list'>, {'persons': ['Mamadou Basilah', 'Forecariah', 'Guinea', 'Ebola', 'Tommy Trenchard  IFRC Emergency', '2014', 'NGA', 'November 2015', 'Norbert Allale', 'Norbert Allale', 'Head of Ebola Regional Operations', 'Months Update Timeframe', 'August 2014 20 August 2015', 'August 2014', 'December 2015', '85 %', 'August 2014', 'January 2015', 'December 2015', 'Million Red Cross Red Crescent Movement', 'Liberian National Red Cross Society', 'Sierra Leone Red Cross Society', 'Danish Red Cross', 'French Red Cross', 'German Red Cross', 'Netherlands Red Cross', 'Spanish Red Cross', 'Swiss Red Cross', 'ICRC', 'UNICEF', 'CDC', 'Action Contre la Faim', 'Institut Pasteur Dakar', 'Catholic Relief Services', 'CAFOD', 'Caritas', 'Samaritans Purse']})\n"
     ]
    }
   ],
   "source": [
    "fids = ['/home/alice/Documents/Project/info_extraction/scraped_data/initial_lines_txt/Africa regional office MDR60002 03Nov2015.txt']\n",
    "stanents = stanford_entities_test(fids)\n",
    "print(stanents[fids[0]])"
   ]
  },
  {
   "cell_type": "code",
   "execution_count": null,
   "metadata": {
    "collapsed": true
   },
   "outputs": [],
   "source": []
  },
  {
   "cell_type": "markdown",
   "metadata": {
    "collapsed": true
   },
   "source": [
    "## Json file : I created manually a Json file contains person names from forst 25 lines of  a sample report\" \" in order to check accuracy,precision and recall."
   ]
  },
  {
   "cell_type": "code",
   "execution_count": 72,
   "metadata": {
    "collapsed": false,
    "scrolled": true
   },
   "outputs": [
    {
     "data": {
      "text/plain": [
       "{'BothNames': {'1': 'Mamadou Basilah',\n",
       "  '2': 'Tommy Trenchard',\n",
       "  '3': 'Norbert Allale',\n",
       "  '4': 'Caritas',\n",
       "  '5': 'Samaritans'},\n",
       " 'SingleName': {'1': 'Mamadou',\n",
       "  '2': 'Basilah',\n",
       "  '3': 'Tommy',\n",
       "  '4': 'Trenchard',\n",
       "  '5': 'Norbert',\n",
       "  '6': 'Allale'}}"
      ]
     },
     "execution_count": 72,
     "metadata": {},
     "output_type": "execute_result"
    }
   ],
   "source": [
    "manual_file = open('manual_file.json', 'r')\n",
    "conn_string = json.load(manual_file)\n",
    "conn_string"
   ]
  },
  {
   "cell_type": "code",
   "execution_count": 75,
   "metadata": {
    "collapsed": false
   },
   "outputs": [],
   "source": [
    "# ordered\n",
    "manual = json.load(open('manual_file.json'))"
   ]
  },
  {
   "cell_type": "code",
   "execution_count": null,
   "metadata": {
    "collapsed": true
   },
   "outputs": [],
   "source": []
  },
  {
   "cell_type": "code",
   "execution_count": 76,
   "metadata": {
    "collapsed": false
   },
   "outputs": [
    {
     "name": "stderr",
     "output_type": "stream",
     "text": [
      "/home/alice/.local/lib/python3.4/site-packages/pandas/indexes/api.py:71: RuntimeWarning: unorderable types: str() < int(), sort order is undefined for incomparable objects\n",
      "  result = result.union(other)\n",
      "/home/alice/.local/lib/python3.4/site-packages/pandas/indexes/api.py:71: RuntimeWarning: unorderable types: int() > str(), sort order is undefined for incomparable objects\n",
      "  result = result.union(other)\n"
     ]
    },
    {
     "data": {
      "text/html": [
       "<div>\n",
       "<table border=\"1\" class=\"dataframe\">\n",
       "  <thead>\n",
       "    <tr style=\"text-align: right;\">\n",
       "      <th></th>\n",
       "      <th>Hand-labeled True BothNames</th>\n",
       "      <th>NLTKStandard NERC Authors</th>\n",
       "      <th>Stanford NERC Authors</th>\n",
       "      <th>Polyglot NERC Authors</th>\n",
       "    </tr>\n",
       "  </thead>\n",
       "  <tbody>\n",
       "    <tr>\n",
       "      <th>1</th>\n",
       "      <td>Mamadou Basilah</td>\n",
       "      <td></td>\n",
       "      <td></td>\n",
       "      <td></td>\n",
       "    </tr>\n",
       "    <tr>\n",
       "      <th>2</th>\n",
       "      <td>Tommy Trenchard</td>\n",
       "      <td></td>\n",
       "      <td></td>\n",
       "      <td></td>\n",
       "    </tr>\n",
       "    <tr>\n",
       "      <th>3</th>\n",
       "      <td>Norbert Allale</td>\n",
       "      <td></td>\n",
       "      <td></td>\n",
       "      <td></td>\n",
       "    </tr>\n",
       "    <tr>\n",
       "      <th>4</th>\n",
       "      <td>Caritas</td>\n",
       "      <td></td>\n",
       "      <td></td>\n",
       "      <td></td>\n",
       "    </tr>\n",
       "    <tr>\n",
       "      <th>5</th>\n",
       "      <td>Samaritans</td>\n",
       "      <td></td>\n",
       "      <td></td>\n",
       "      <td></td>\n",
       "    </tr>\n",
       "    <tr>\n",
       "      <th>0</th>\n",
       "      <td></td>\n",
       "      <td>Mamadou Basilah</td>\n",
       "      <td>Mamadou Basilah</td>\n",
       "      <td>Mamadou Basilah</td>\n",
       "    </tr>\n",
       "    <tr>\n",
       "      <th>1</th>\n",
       "      <td></td>\n",
       "      <td>Tommy Trenchard</td>\n",
       "      <td>Forecariah</td>\n",
       "      <td>Klalantou</td>\n",
       "    </tr>\n",
       "    <tr>\n",
       "      <th>2</th>\n",
       "      <td></td>\n",
       "      <td>Norbert Allale Point</td>\n",
       "      <td>Guinea</td>\n",
       "      <td>Forecariah</td>\n",
       "    </tr>\n",
       "    <tr>\n",
       "      <th>3</th>\n",
       "      <td></td>\n",
       "      <td>Norbert Allale</td>\n",
       "      <td>Ebola</td>\n",
       "      <td>Guinea</td>\n",
       "    </tr>\n",
       "    <tr>\n",
       "      <th>4</th>\n",
       "      <td></td>\n",
       "      <td>Ebola Regional Operations</td>\n",
       "      <td>Tommy Trenchard  IFRC Emergency</td>\n",
       "      <td>Tommy Trenchard</td>\n",
       "    </tr>\n",
       "    <tr>\n",
       "      <th>5</th>\n",
       "      <td></td>\n",
       "      <td>Appeal</td>\n",
       "      <td>2014</td>\n",
       "      <td>SEN</td>\n",
       "    </tr>\n",
       "    <tr>\n",
       "      <th>6</th>\n",
       "      <td></td>\n",
       "      <td>Guinea Red Cross</td>\n",
       "      <td>NGA</td>\n",
       "      <td>Norbert Allale</td>\n",
       "    </tr>\n",
       "    <tr>\n",
       "      <th>7</th>\n",
       "      <td></td>\n",
       "      <td>Liberian National Red Cross Society</td>\n",
       "      <td>November 2015</td>\n",
       "      <td>Norbert Allale</td>\n",
       "    </tr>\n",
       "    <tr>\n",
       "      <th>8</th>\n",
       "      <td></td>\n",
       "      <td>Sierra Leone Red Cross Society</td>\n",
       "      <td>Norbert Allale</td>\n",
       "      <td>Ebola</td>\n",
       "    </tr>\n",
       "    <tr>\n",
       "      <th>9</th>\n",
       "      <td></td>\n",
       "      <td>Danish Red Cross</td>\n",
       "      <td>Norbert Allale</td>\n",
       "      <td>Operations</td>\n",
       "    </tr>\n",
       "    <tr>\n",
       "      <th>10</th>\n",
       "      <td></td>\n",
       "      <td>German Red Cross</td>\n",
       "      <td>Head of Ebola Regional Operations</td>\n",
       "      <td>Crescent Movement</td>\n",
       "    </tr>\n",
       "    <tr>\n",
       "      <th>11</th>\n",
       "      <td></td>\n",
       "      <td>Netherlands Red Cross</td>\n",
       "      <td>Months Update Timeframe</td>\n",
       "      <td>Guinea</td>\n",
       "    </tr>\n",
       "    <tr>\n",
       "      <th>12</th>\n",
       "      <td></td>\n",
       "      <td>Swiss Red Cross</td>\n",
       "      <td>August 2014 20 August 2015</td>\n",
       "      <td>Cross</td>\n",
       "    </tr>\n",
       "    <tr>\n",
       "      <th>13</th>\n",
       "      <td></td>\n",
       "      <td>Action Contre</td>\n",
       "      <td>August 2014</td>\n",
       "      <td>Liberian</td>\n",
       "    </tr>\n",
       "    <tr>\n",
       "      <th>14</th>\n",
       "      <td></td>\n",
       "      <td>Institut Pasteur Dakar</td>\n",
       "      <td>December 2015</td>\n",
       "      <td>Red Cross Society</td>\n",
       "    </tr>\n",
       "    <tr>\n",
       "      <th>15</th>\n",
       "      <td></td>\n",
       "      <td>World Vision</td>\n",
       "      <td>85 %</td>\n",
       "      <td>Sierra</td>\n",
       "    </tr>\n",
       "    <tr>\n",
       "      <th>16</th>\n",
       "      <td></td>\n",
       "      <td>Caritas</td>\n",
       "      <td>August 2014</td>\n",
       "      <td>Sierra Leone</td>\n",
       "    </tr>\n",
       "    <tr>\n",
       "      <th>17</th>\n",
       "      <td></td>\n",
       "      <td>Plan</td>\n",
       "      <td>January 2015</td>\n",
       "      <td>Sierra Leone Red Cross Society</td>\n",
       "    </tr>\n",
       "    <tr>\n",
       "      <th>18</th>\n",
       "      <td></td>\n",
       "      <td>Samaritans Purse</td>\n",
       "      <td>December 2015</td>\n",
       "      <td>Cross</td>\n",
       "    </tr>\n",
       "    <tr>\n",
       "      <th>19</th>\n",
       "      <td></td>\n",
       "      <td>Semi</td>\n",
       "      <td>Million Red Cross Red Crescent Movement</td>\n",
       "      <td>Cross</td>\n",
       "    </tr>\n",
       "    <tr>\n",
       "      <th>20</th>\n",
       "      <td></td>\n",
       "      <td></td>\n",
       "      <td>Liberian National Red Cross Society</td>\n",
       "      <td>Cross</td>\n",
       "    </tr>\n",
       "    <tr>\n",
       "      <th>21</th>\n",
       "      <td></td>\n",
       "      <td></td>\n",
       "      <td>Sierra Leone Red Cross Society</td>\n",
       "      <td>Netherlands</td>\n",
       "    </tr>\n",
       "    <tr>\n",
       "      <th>22</th>\n",
       "      <td></td>\n",
       "      <td></td>\n",
       "      <td>Danish Red Cross</td>\n",
       "      <td>Cross</td>\n",
       "    </tr>\n",
       "    <tr>\n",
       "      <th>23</th>\n",
       "      <td></td>\n",
       "      <td></td>\n",
       "      <td>French Red Cross</td>\n",
       "      <td>Cross</td>\n",
       "    </tr>\n",
       "    <tr>\n",
       "      <th>24</th>\n",
       "      <td></td>\n",
       "      <td></td>\n",
       "      <td>German Red Cross</td>\n",
       "      <td>Cross</td>\n",
       "    </tr>\n",
       "    <tr>\n",
       "      <th>25</th>\n",
       "      <td></td>\n",
       "      <td></td>\n",
       "      <td>Netherlands Red Cross</td>\n",
       "      <td>ICRC</td>\n",
       "    </tr>\n",
       "    <tr>\n",
       "      <th>26</th>\n",
       "      <td></td>\n",
       "      <td></td>\n",
       "      <td>Spanish Red Cross</td>\n",
       "      <td>of Health</td>\n",
       "    </tr>\n",
       "    <tr>\n",
       "      <th>27</th>\n",
       "      <td></td>\n",
       "      <td></td>\n",
       "      <td>Swiss Red Cross</td>\n",
       "      <td>WHO</td>\n",
       "    </tr>\n",
       "    <tr>\n",
       "      <th>28</th>\n",
       "      <td></td>\n",
       "      <td></td>\n",
       "      <td>ICRC</td>\n",
       "      <td>UNICEF</td>\n",
       "    </tr>\n",
       "    <tr>\n",
       "      <th>29</th>\n",
       "      <td></td>\n",
       "      <td></td>\n",
       "      <td>UNICEF</td>\n",
       "      <td>CDC</td>\n",
       "    </tr>\n",
       "    <tr>\n",
       "      <th>30</th>\n",
       "      <td></td>\n",
       "      <td></td>\n",
       "      <td>CDC</td>\n",
       "      <td>Institut Pasteur Dakar</td>\n",
       "    </tr>\n",
       "    <tr>\n",
       "      <th>31</th>\n",
       "      <td></td>\n",
       "      <td></td>\n",
       "      <td>Action Contre la Faim</td>\n",
       "      <td>Catholic Relief Services</td>\n",
       "    </tr>\n",
       "    <tr>\n",
       "      <th>32</th>\n",
       "      <td></td>\n",
       "      <td></td>\n",
       "      <td>Institut Pasteur Dakar</td>\n",
       "      <td>Concern</td>\n",
       "    </tr>\n",
       "    <tr>\n",
       "      <th>33</th>\n",
       "      <td></td>\n",
       "      <td></td>\n",
       "      <td>Catholic Relief Services</td>\n",
       "      <td>CARE</td>\n",
       "    </tr>\n",
       "    <tr>\n",
       "      <th>34</th>\n",
       "      <td></td>\n",
       "      <td></td>\n",
       "      <td>CAFOD</td>\n",
       "      <td>CAFOD</td>\n",
       "    </tr>\n",
       "    <tr>\n",
       "      <th>35</th>\n",
       "      <td></td>\n",
       "      <td></td>\n",
       "      <td>Caritas</td>\n",
       "      <td>Caritas</td>\n",
       "    </tr>\n",
       "    <tr>\n",
       "      <th>36</th>\n",
       "      <td></td>\n",
       "      <td></td>\n",
       "      <td>Samaritans Purse</td>\n",
       "      <td></td>\n",
       "    </tr>\n",
       "  </tbody>\n",
       "</table>\n",
       "</div>"
      ],
      "text/plain": [
       "   Hand-labeled True BothNames            NLTKStandard NERC Authors  \\\n",
       "1              Mamadou Basilah                                        \n",
       "2              Tommy Trenchard                                        \n",
       "3               Norbert Allale                                        \n",
       "4                      Caritas                                        \n",
       "5                   Samaritans                                        \n",
       "0                                                   Mamadou Basilah   \n",
       "1                                                   Tommy Trenchard   \n",
       "2                                              Norbert Allale Point   \n",
       "3                                                    Norbert Allale   \n",
       "4                                         Ebola Regional Operations   \n",
       "5                                                            Appeal   \n",
       "6                                                  Guinea Red Cross   \n",
       "7                               Liberian National Red Cross Society   \n",
       "8                                    Sierra Leone Red Cross Society   \n",
       "9                                                  Danish Red Cross   \n",
       "10                                                 German Red Cross   \n",
       "11                                            Netherlands Red Cross   \n",
       "12                                                  Swiss Red Cross   \n",
       "13                                                    Action Contre   \n",
       "14                                           Institut Pasteur Dakar   \n",
       "15                                                     World Vision   \n",
       "16                                                          Caritas   \n",
       "17                                                             Plan   \n",
       "18                                                 Samaritans Purse   \n",
       "19                                                             Semi   \n",
       "20                                                                    \n",
       "21                                                                    \n",
       "22                                                                    \n",
       "23                                                                    \n",
       "24                                                                    \n",
       "25                                                                    \n",
       "26                                                                    \n",
       "27                                                                    \n",
       "28                                                                    \n",
       "29                                                                    \n",
       "30                                                                    \n",
       "31                                                                    \n",
       "32                                                                    \n",
       "33                                                                    \n",
       "34                                                                    \n",
       "35                                                                    \n",
       "36                                                                    \n",
       "\n",
       "                      Stanford NERC Authors           Polyglot NERC Authors  \n",
       "1                                                                            \n",
       "2                                                                            \n",
       "3                                                                            \n",
       "4                                                                            \n",
       "5                                                                            \n",
       "0                           Mamadou Basilah                 Mamadou Basilah  \n",
       "1                                Forecariah                       Klalantou  \n",
       "2                                    Guinea                      Forecariah  \n",
       "3                                     Ebola                          Guinea  \n",
       "4           Tommy Trenchard  IFRC Emergency                 Tommy Trenchard  \n",
       "5                                      2014                             SEN  \n",
       "6                                       NGA                  Norbert Allale  \n",
       "7                             November 2015                  Norbert Allale  \n",
       "8                            Norbert Allale                           Ebola  \n",
       "9                            Norbert Allale                      Operations  \n",
       "10        Head of Ebola Regional Operations               Crescent Movement  \n",
       "11                  Months Update Timeframe                          Guinea  \n",
       "12               August 2014 20 August 2015                           Cross  \n",
       "13                              August 2014                        Liberian  \n",
       "14                            December 2015               Red Cross Society  \n",
       "15                                     85 %                          Sierra  \n",
       "16                              August 2014                    Sierra Leone  \n",
       "17                             January 2015  Sierra Leone Red Cross Society  \n",
       "18                            December 2015                           Cross  \n",
       "19  Million Red Cross Red Crescent Movement                           Cross  \n",
       "20      Liberian National Red Cross Society                           Cross  \n",
       "21           Sierra Leone Red Cross Society                     Netherlands  \n",
       "22                         Danish Red Cross                           Cross  \n",
       "23                         French Red Cross                           Cross  \n",
       "24                         German Red Cross                           Cross  \n",
       "25                    Netherlands Red Cross                            ICRC  \n",
       "26                        Spanish Red Cross                       of Health  \n",
       "27                          Swiss Red Cross                             WHO  \n",
       "28                                     ICRC                          UNICEF  \n",
       "29                                   UNICEF                             CDC  \n",
       "30                                      CDC          Institut Pasteur Dakar  \n",
       "31                    Action Contre la Faim        Catholic Relief Services  \n",
       "32                   Institut Pasteur Dakar                         Concern  \n",
       "33                 Catholic Relief Services                            CARE  \n",
       "34                                    CAFOD                           CAFOD  \n",
       "35                                  Caritas                         Caritas  \n",
       "36                         Samaritans Purse                                  "
      ]
     },
     "execution_count": 76,
     "metadata": {},
     "output_type": "execute_result"
    }
   ],
   "source": [
    "'''\n",
    "Creation of table for names of persons found manually polyentsand names of persons\n",
    "extracted by NLTK,POLYGLOT AND STANFORD\n",
    "\n",
    "'''\n",
    "\n",
    "\n",
    "\n",
    "df1 = pd.Series(polyents[fids[0]]['persons'], index=None,\n",
    "dtype=None, name='Polyglot NERC Authors', copy=False, fastpath=False)\n",
    "\n",
    "df2=pd.Series([re.sub('\\*',\"\",l) for l in stanents[fids[0]]['persons']],\n",
    "index=None, dtype=None, name='Stanford NERC Authors', copy=False, fastpath=False)\n",
    "\n",
    "df3=pd.Series([re.sub('\\*',\"\",l) for l in nltkents[fids[0]]['persons']],\n",
    "index=None, dtype=None, name='NLTKStandard NERC Authors', copy=False, fastpath=False)\n",
    "\n",
    "df4 = pd.Series(manual['BothNames'], index=None,\n",
    "dtype=None, name='Hand-labeled True BothNames', copy=False, fastpath=False)\n",
    "\n",
    "met = pd.concat([df4,df3,df2,df1], axis=1).fillna('')\n",
    "met"
   ]
  },
  {
   "cell_type": "code",
   "execution_count": null,
   "metadata": {
    "collapsed": false
   },
   "outputs": [],
   "source": []
  },
  {
   "cell_type": "code",
   "execution_count": 77,
   "metadata": {
    "collapsed": false
   },
   "outputs": [],
   "source": [
    "# Calculations and logic from http://www.kdnuggets.com/faq/precision-recall.html\n",
    "\n",
    "def metrics(truth,run):\n",
    "    truth = truth\n",
    "    run = run\n",
    "    TP = float(len(set(run) & set(truth)))\n",
    "\n",
    "    if float(len(run)) >= float(TP):\n",
    "        FP = len(run) - TP\n",
    "    else:\n",
    "        FP = TP - len(run)\n",
    "    TN = 0\n",
    "    if len(truth) >= len(run):\n",
    "        FN = len(truth) - len(run)\n",
    "    else:\n",
    "        FN = 0\n",
    "\n",
    "    accuracy = (float(TP)+float(TN))/float(len(truth))\n",
    "    recall = (float(TP))/float(len(truth))\n",
    "    precision = float(TP)/(float(FP)+float(TP))\n",
    "    print (\"The accuracy is %r\" % accuracy)\n",
    "    print (\"The recall is %r\" % recall)\n",
    "    print (\"The precision is %r\" % precision)\n",
    "\n",
    "    d = {'Predicted Negative': [TN,FN], 'Predicted Positive': [FP,TP]}\n",
    "    metricsdf = pd.DataFrame(d, index=['Negative Cases','Positive Cases'])\n",
    "\n",
    "    return metricsdf\n"
   ]
  },
  {
   "cell_type": "code",
   "execution_count": 78,
   "metadata": {
    "collapsed": false
   },
   "outputs": [
    {
     "name": "stdout",
     "output_type": "stream",
     "text": [
      "The accuracy is 1.0\n",
      "The recall is 1.0\n",
      "The precision is 1.0\n"
     ]
    },
    {
     "data": {
      "text/html": [
       "<div>\n",
       "<table border=\"1\" class=\"dataframe\">\n",
       "  <thead>\n",
       "    <tr style=\"text-align: right;\">\n",
       "      <th></th>\n",
       "      <th>Predicted Negative</th>\n",
       "      <th>Predicted Positive</th>\n",
       "    </tr>\n",
       "  </thead>\n",
       "  <tbody>\n",
       "    <tr>\n",
       "      <th>Negative Cases</th>\n",
       "      <td>0</td>\n",
       "      <td>0.0</td>\n",
       "    </tr>\n",
       "    <tr>\n",
       "      <th>Positive Cases</th>\n",
       "      <td>0</td>\n",
       "      <td>1.0</td>\n",
       "    </tr>\n",
       "  </tbody>\n",
       "</table>\n",
       "</div>"
      ],
      "text/plain": [
       "                Predicted Negative  Predicted Positive\n",
       "Negative Cases                   0                 0.0\n",
       "Positive Cases                   0                 1.0"
      ]
     },
     "execution_count": 78,
     "metadata": {},
     "output_type": "execute_result"
    }
   ],
   "source": [
    "metrics(polyents,nltkents) "
   ]
  },
  {
   "cell_type": "markdown",
   "metadata": {
    "collapsed": true
   },
   "source": [
    "### Based on the table above,  some names of organization, abbreviations are classified as name of Persons, which cause the precision, recall and accuracy to be so small.\n",
    "\n",
    "## Next step : \n",
    "\n",
    "### I will test for other categories of entities (location, organization and others )   then I will compare 3 ways of extracting  entities (nltk,polyglot and stanford) to entities found manually.\n",
    "\n",
    "\n"
   ]
  },
  {
   "cell_type": "code",
   "execution_count": null,
   "metadata": {
    "collapsed": false
   },
   "outputs": [],
   "source": []
  },
  {
   "cell_type": "code",
   "execution_count": null,
   "metadata": {
    "collapsed": true
   },
   "outputs": [],
   "source": []
  },
  {
   "cell_type": "markdown",
   "metadata": {
    "collapsed": true
   },
   "source": [
    "# 2nd PART"
   ]
  },
  {
   "cell_type": "markdown",
   "metadata": {
    "collapsed": true
   },
   "source": [
    "### CSV FILE FOR CTP REPORTS"
   ]
  },
  {
   "cell_type": "code",
   "execution_count": 80,
   "metadata": {
    "collapsed": false
   },
   "outputs": [
    {
     "name": "stderr",
     "output_type": "stream",
     "text": [
      "/usr/local/lib/python3.4/dist-packages/ipykernel/__main__.py:1: ParserWarning: Falling back to the 'python' engine because the 'c' engine does not support sep=None with delim_whitespace=False; you can avoid this warning by specifying engine='python'.\n",
      "  if __name__ == '__main__':\n"
     ]
    }
   ],
   "source": [
    "data = pd.read_csv(\"/home/alice/Documents/Project/info_extraction/doc information all_s BIS_r2.csv\", sep=None)"
   ]
  },
  {
   "cell_type": "code",
   "execution_count": 82,
   "metadata": {
    "collapsed": false
   },
   "outputs": [
    {
     "data": {
      "text/html": [
       "<div>\n",
       "<table border=\"1\" class=\"dataframe\">\n",
       "  <thead>\n",
       "    <tr style=\"text-align: right;\">\n",
       "      <th></th>\n",
       "      <th>Unnamed: 0</th>\n",
       "      <th>id.of.documents</th>\n",
       "      <th>country</th>\n",
       "      <th>appeal.code</th>\n",
       "      <th>date.of.document</th>\n",
       "      <th>CTP</th>\n",
       "      <th>Number.of.beneficiaries</th>\n",
       "      <th>CTP.budget</th>\n",
       "      <th>Number.of.CTP.beneficiaries</th>\n",
       "      <th>CTP.budget.source</th>\n",
       "      <th>...</th>\n",
       "      <th>Appeal</th>\n",
       "      <th>DREF</th>\n",
       "      <th>name</th>\n",
       "      <th>document.name</th>\n",
       "      <th>file.name</th>\n",
       "      <th>url</th>\n",
       "      <th>url.status</th>\n",
       "      <th>glide.number</th>\n",
       "      <th>type.of.event</th>\n",
       "      <th>date.of.event</th>\n",
       "    </tr>\n",
       "  </thead>\n",
       "  <tbody>\n",
       "    <tr>\n",
       "      <th>0</th>\n",
       "      <td>1</td>\n",
       "      <td>- Global - 010198 01Jan1998.txt</td>\n",
       "      <td>- Global -</td>\n",
       "      <td>010198</td>\n",
       "      <td>01Jan1998</td>\n",
       "      <td>no</td>\n",
       "      <td>NaN</td>\n",
       "      <td>NaN</td>\n",
       "      <td>0.0</td>\n",
       "      <td>NaN</td>\n",
       "      <td>...</td>\n",
       "      <td>True</td>\n",
       "      <td>False</td>\n",
       "      <td>Disaster Relief Emergency Fund - appeal 1998 (...</td>\n",
       "      <td>Annual appeal</td>\n",
       "      <td>- Global - 010198 01Jan1998.pdf</td>\n",
       "      <td>http://www.ifrc.org/docs/appeals/annual98/0101...</td>\n",
       "      <td>OK</td>\n",
       "      <td>none</td>\n",
       "      <td>none</td>\n",
       "      <td>none</td>\n",
       "    </tr>\n",
       "    <tr>\n",
       "      <th>1</th>\n",
       "      <td>2</td>\n",
       "      <td>- Global - 010199 01Jan1999.txt</td>\n",
       "      <td>- Global -</td>\n",
       "      <td>010199</td>\n",
       "      <td>01Jan1999</td>\n",
       "      <td>no</td>\n",
       "      <td>NaN</td>\n",
       "      <td>NaN</td>\n",
       "      <td>0.0</td>\n",
       "      <td>NaN</td>\n",
       "      <td>...</td>\n",
       "      <td>True</td>\n",
       "      <td>False</td>\n",
       "      <td>Disaster Relief Emergency Fund - appeal 1999 (...</td>\n",
       "      <td>Annual appeal</td>\n",
       "      <td>- Global - 010199 01Jan1999.pdf</td>\n",
       "      <td>http://www.ifrc.org/docs/appeals/annual99/0101...</td>\n",
       "      <td>OK</td>\n",
       "      <td>none</td>\n",
       "      <td>none</td>\n",
       "      <td>none</td>\n",
       "    </tr>\n",
       "    <tr>\n",
       "      <th>2</th>\n",
       "      <td>3</td>\n",
       "      <td>- Global - 010298 01Jan1998.txt</td>\n",
       "      <td>- Global -</td>\n",
       "      <td>010298</td>\n",
       "      <td>01Jan1998</td>\n",
       "      <td>no</td>\n",
       "      <td>NaN</td>\n",
       "      <td>NaN</td>\n",
       "      <td>0.0</td>\n",
       "      <td>NaN</td>\n",
       "      <td>...</td>\n",
       "      <td>True</td>\n",
       "      <td>False</td>\n",
       "      <td>Global Telecommunications Network -appeal 1998...</td>\n",
       "      <td>Annual appeal</td>\n",
       "      <td>- Global - 010298 01Jan1998.pdf</td>\n",
       "      <td>http://www.ifrc.org/docs/appeals/annual98/0102...</td>\n",
       "      <td>OK</td>\n",
       "      <td>none</td>\n",
       "      <td>none</td>\n",
       "      <td>none</td>\n",
       "    </tr>\n",
       "    <tr>\n",
       "      <th>3</th>\n",
       "      <td>4</td>\n",
       "      <td>- Global - 010299 01Jan1999.txt</td>\n",
       "      <td>- Global -</td>\n",
       "      <td>010299</td>\n",
       "      <td>01Jan1999</td>\n",
       "      <td>no</td>\n",
       "      <td>NaN</td>\n",
       "      <td>NaN</td>\n",
       "      <td>0.0</td>\n",
       "      <td>NaN</td>\n",
       "      <td>...</td>\n",
       "      <td>True</td>\n",
       "      <td>False</td>\n",
       "      <td>Regional Delegate Programme - appeal 1999 (01....</td>\n",
       "      <td>Annual appeal</td>\n",
       "      <td>- Global - 010299 01Jan1999.pdf</td>\n",
       "      <td>http://www.ifrc.org/docs/appeals/annual99/0102...</td>\n",
       "      <td>OK</td>\n",
       "      <td>none</td>\n",
       "      <td>none</td>\n",
       "      <td>none</td>\n",
       "    </tr>\n",
       "    <tr>\n",
       "      <th>4</th>\n",
       "      <td>5</td>\n",
       "      <td>- Global - 010398 01Jan1998.txt</td>\n",
       "      <td>- Global -</td>\n",
       "      <td>010398</td>\n",
       "      <td>01Jan1998</td>\n",
       "      <td>no</td>\n",
       "      <td>NaN</td>\n",
       "      <td>NaN</td>\n",
       "      <td>0.0</td>\n",
       "      <td>NaN</td>\n",
       "      <td>...</td>\n",
       "      <td>True</td>\n",
       "      <td>False</td>\n",
       "      <td>Psychological support programme - appeal 1998 ...</td>\n",
       "      <td>Annual appeal</td>\n",
       "      <td>- Global - 010398 01Jan1998.pdf</td>\n",
       "      <td>http://www.ifrc.org/docs/appeals/annual98/0103...</td>\n",
       "      <td>OK</td>\n",
       "      <td>none</td>\n",
       "      <td>none</td>\n",
       "      <td>none</td>\n",
       "    </tr>\n",
       "  </tbody>\n",
       "</table>\n",
       "<p>5 rows × 25 columns</p>\n",
       "</div>"
      ],
      "text/plain": [
       "   Unnamed: 0                  id.of.documents     country appeal.code  \\\n",
       "0           1  - Global - 010198 01Jan1998.txt  - Global -      010198   \n",
       "1           2  - Global - 010199 01Jan1999.txt  - Global -      010199   \n",
       "2           3  - Global - 010298 01Jan1998.txt  - Global -      010298   \n",
       "3           4  - Global - 010299 01Jan1999.txt  - Global -      010299   \n",
       "4           5  - Global - 010398 01Jan1998.txt  - Global -      010398   \n",
       "\n",
       "  date.of.document CTP  Number.of.beneficiaries CTP.budget  \\\n",
       "0        01Jan1998  no                      NaN        NaN   \n",
       "1        01Jan1999  no                      NaN        NaN   \n",
       "2        01Jan1998  no                      NaN        NaN   \n",
       "3        01Jan1999  no                      NaN        NaN   \n",
       "4        01Jan1998  no                      NaN        NaN   \n",
       "\n",
       "   Number.of.CTP.beneficiaries CTP.budget.source      ...      Appeal   DREF  \\\n",
       "0                          0.0               NaN      ...        True  False   \n",
       "1                          0.0               NaN      ...        True  False   \n",
       "2                          0.0               NaN      ...        True  False   \n",
       "3                          0.0               NaN      ...        True  False   \n",
       "4                          0.0               NaN      ...        True  False   \n",
       "\n",
       "                                                name  document.name  \\\n",
       "0  Disaster Relief Emergency Fund - appeal 1998 (...  Annual appeal   \n",
       "1  Disaster Relief Emergency Fund - appeal 1999 (...  Annual appeal   \n",
       "2  Global Telecommunications Network -appeal 1998...  Annual appeal   \n",
       "3  Regional Delegate Programme - appeal 1999 (01....  Annual appeal   \n",
       "4  Psychological support programme - appeal 1998 ...  Annual appeal   \n",
       "\n",
       "                         file.name  \\\n",
       "0  - Global - 010198 01Jan1998.pdf   \n",
       "1  - Global - 010199 01Jan1999.pdf   \n",
       "2  - Global - 010298 01Jan1998.pdf   \n",
       "3  - Global - 010299 01Jan1999.pdf   \n",
       "4  - Global - 010398 01Jan1998.pdf   \n",
       "\n",
       "                                                 url url.status glide.number  \\\n",
       "0  http://www.ifrc.org/docs/appeals/annual98/0101...         OK         none   \n",
       "1  http://www.ifrc.org/docs/appeals/annual99/0101...         OK         none   \n",
       "2  http://www.ifrc.org/docs/appeals/annual98/0102...         OK         none   \n",
       "3  http://www.ifrc.org/docs/appeals/annual99/0102...         OK         none   \n",
       "4  http://www.ifrc.org/docs/appeals/annual98/0103...         OK         none   \n",
       "\n",
       "  type.of.event date.of.event  \n",
       "0          none          none  \n",
       "1          none          none  \n",
       "2          none          none  \n",
       "3          none          none  \n",
       "4          none          none  \n",
       "\n",
       "[5 rows x 25 columns]"
      ]
     },
     "execution_count": 82,
     "metadata": {},
     "output_type": "execute_result"
    }
   ],
   "source": [
    "data.head()"
   ]
  },
  {
   "cell_type": "code",
   "execution_count": 90,
   "metadata": {
    "collapsed": false
   },
   "outputs": [
    {
     "data": {
      "text/plain": [
       "(3997, 25)"
      ]
     },
     "execution_count": 90,
     "metadata": {},
     "output_type": "execute_result"
    }
   ],
   "source": [
    "data.shape"
   ]
  },
  {
   "cell_type": "code",
   "execution_count": 83,
   "metadata": {
    "collapsed": false
   },
   "outputs": [
    {
     "data": {
      "text/plain": [
       "Index(['Unnamed: 0', 'id.of.documents', 'country', 'appeal.code',\n",
       "       'date.of.document', 'CTP', 'Number.of.beneficiaries', 'CTP.budget',\n",
       "       'Number.of.CTP.beneficiaries', 'CTP.budget.source',\n",
       "       'Budget.relief.items..construction.and.supplies',\n",
       "       'Budget.relief.fields.names', 'CTP.extract.1', 'CTP.extract.2',\n",
       "       'CTP.extract.3', 'Appeal', 'DREF', 'name', 'document.name', 'file.name',\n",
       "       'url', 'url.status', 'glide.number', 'type.of.event', 'date.of.event'],\n",
       "      dtype='object')"
      ]
     },
     "execution_count": 83,
     "metadata": {},
     "output_type": "execute_result"
    }
   ],
   "source": [
    "data.columns"
   ]
  },
  {
   "cell_type": "code",
   "execution_count": 84,
   "metadata": {
    "collapsed": false
   },
   "outputs": [
    {
     "data": {
      "text/plain": [
       "0     - Global - 010198 01Jan1998.pdf\n",
       "1     - Global - 010199 01Jan1999.pdf\n",
       "2     - Global - 010298 01Jan1998.pdf\n",
       "3     - Global - 010299 01Jan1999.pdf\n",
       "4     - Global - 010398 01Jan1998.pdf\n",
       "5     - Global - 010498 01Jan1998.pdf\n",
       "6    - Global - 0110003 01Sep2003.pdf\n",
       "7    - Global - 0110004 01Jan2004.pdf\n",
       "Name: file.name, dtype: object"
      ]
     },
     "execution_count": 84,
     "metadata": {},
     "output_type": "execute_result"
    }
   ],
   "source": [
    "data[\"file.name\"].head(8)"
   ]
  },
  {
   "cell_type": "code",
   "execution_count": 91,
   "metadata": {
    "collapsed": false
   },
   "outputs": [
    {
     "data": {
      "text/html": [
       "<div>\n",
       "<table border=\"1\" class=\"dataframe\">\n",
       "  <thead>\n",
       "    <tr style=\"text-align: right;\">\n",
       "      <th></th>\n",
       "      <th>Unnamed: 0</th>\n",
       "      <th>id.of.documents</th>\n",
       "      <th>country</th>\n",
       "      <th>appeal.code</th>\n",
       "      <th>date.of.document</th>\n",
       "      <th>CTP</th>\n",
       "      <th>Number.of.beneficiaries</th>\n",
       "      <th>CTP.budget</th>\n",
       "      <th>Number.of.CTP.beneficiaries</th>\n",
       "      <th>CTP.budget.source</th>\n",
       "      <th>...</th>\n",
       "      <th>Appeal</th>\n",
       "      <th>DREF</th>\n",
       "      <th>name</th>\n",
       "      <th>document.name</th>\n",
       "      <th>file.name</th>\n",
       "      <th>url</th>\n",
       "      <th>url.status</th>\n",
       "      <th>glide.number</th>\n",
       "      <th>type.of.event</th>\n",
       "      <th>date.of.event</th>\n",
       "    </tr>\n",
       "  </thead>\n",
       "  <tbody>\n",
       "    <tr>\n",
       "      <th>97</th>\n",
       "      <td>98</td>\n",
       "      <td>- Global - MAA00010 02Jul2013.txt</td>\n",
       "      <td>- Global -</td>\n",
       "      <td>MAA00010</td>\n",
       "      <td>02Jul2013</td>\n",
       "      <td>yes</td>\n",
       "      <td>NaN</td>\n",
       "      <td>NaN</td>\n",
       "      <td>0.0</td>\n",
       "      <td>NaN</td>\n",
       "      <td>...</td>\n",
       "      <td>False</td>\n",
       "      <td>True</td>\n",
       "      <td>Disaster Relief Emergency Fund (MAA00010)</td>\n",
       "      <td>DREF 2012 Annual Report</td>\n",
       "      <td>- Global - MAA00010 02Jul2013.pdf</td>\n",
       "      <td>http://adore.ifrc.org/Download.aspx?FileId=44833</td>\n",
       "      <td>OK</td>\n",
       "      <td>none</td>\n",
       "      <td>none</td>\n",
       "      <td>none</td>\n",
       "    </tr>\n",
       "    <tr>\n",
       "      <th>98</th>\n",
       "      <td>99</td>\n",
       "      <td>- Global - MAA00010 02May2014.txt</td>\n",
       "      <td>- Global -</td>\n",
       "      <td>MAA00010</td>\n",
       "      <td>02May2014</td>\n",
       "      <td>yes</td>\n",
       "      <td>1.0</td>\n",
       "      <td>NaN</td>\n",
       "      <td>0.0</td>\n",
       "      <td>NaN</td>\n",
       "      <td>...</td>\n",
       "      <td>False</td>\n",
       "      <td>True</td>\n",
       "      <td>Disaster Relief Emergency Fund (MAA00010)</td>\n",
       "      <td>DREF 2013 Annual Report</td>\n",
       "      <td>- Global - MAA00010 02May2014.pdf</td>\n",
       "      <td>http://adore.ifrc.org/Download.aspx?FileId=58559</td>\n",
       "      <td>OK</td>\n",
       "      <td>none</td>\n",
       "      <td>none</td>\n",
       "      <td>none</td>\n",
       "    </tr>\n",
       "  </tbody>\n",
       "</table>\n",
       "<p>2 rows × 25 columns</p>\n",
       "</div>"
      ],
      "text/plain": [
       "    Unnamed: 0                    id.of.documents     country appeal.code  \\\n",
       "97          98  - Global - MAA00010 02Jul2013.txt  - Global -    MAA00010   \n",
       "98          99  - Global - MAA00010 02May2014.txt  - Global -    MAA00010   \n",
       "\n",
       "   date.of.document  CTP  Number.of.beneficiaries CTP.budget  \\\n",
       "97        02Jul2013  yes                      NaN        NaN   \n",
       "98        02May2014  yes                      1.0        NaN   \n",
       "\n",
       "    Number.of.CTP.beneficiaries CTP.budget.source      ...      Appeal  DREF  \\\n",
       "97                          0.0               NaN      ...       False  True   \n",
       "98                          0.0               NaN      ...       False  True   \n",
       "\n",
       "                                         name            document.name  \\\n",
       "97  Disaster Relief Emergency Fund (MAA00010)  DREF 2012 Annual Report   \n",
       "98  Disaster Relief Emergency Fund (MAA00010)  DREF 2013 Annual Report   \n",
       "\n",
       "                            file.name  \\\n",
       "97  - Global - MAA00010 02Jul2013.pdf   \n",
       "98  - Global - MAA00010 02May2014.pdf   \n",
       "\n",
       "                                                 url url.status glide.number  \\\n",
       "97  http://adore.ifrc.org/Download.aspx?FileId=44833         OK         none   \n",
       "98  http://adore.ifrc.org/Download.aspx?FileId=58559         OK         none   \n",
       "\n",
       "   type.of.event date.of.event  \n",
       "97          none          none  \n",
       "98          none          none  \n",
       "\n",
       "[2 rows x 25 columns]"
      ]
     },
     "execution_count": 91,
     "metadata": {},
     "output_type": "execute_result"
    }
   ],
   "source": [
    "data_CTP_yes = data.loc[(data[\"CTP\"]==\"yes\")];new_CTP.head(2)"
   ]
  },
  {
   "cell_type": "code",
   "execution_count": 92,
   "metadata": {
    "collapsed": false
   },
   "outputs": [
    {
     "data": {
      "text/plain": [
       "(404, 25)"
      ]
     },
     "execution_count": 92,
     "metadata": {},
     "output_type": "execute_result"
    }
   ],
   "source": [
    "data_CTP_yes.shape"
   ]
  },
  {
   "cell_type": "code",
   "execution_count": 94,
   "metadata": {
    "collapsed": false
   },
   "outputs": [
    {
     "data": {
      "text/plain": [
       "0"
      ]
     },
     "execution_count": 94,
     "metadata": {},
     "output_type": "execute_result"
    }
   ],
   "source": [
    "sum(data_CTP_yes.CTP.isnull())"
   ]
  },
  {
   "cell_type": "code",
   "execution_count": 100,
   "metadata": {
    "collapsed": true
   },
   "outputs": [],
   "source": [
    "real_data = os.chdir(\"/home/alice/Documents/Project/info_extraction/scraped_data/files_in_txt/\")"
   ]
  },
  {
   "cell_type": "code",
   "execution_count": 106,
   "metadata": {
    "collapsed": false
   },
   "outputs": [],
   "source": [
    "real_data =  pd.read_csv('/home/alice/Documents/Project/info_extraction/listoftxt_files.csv')"
   ]
  },
  {
   "cell_type": "code",
   "execution_count": 110,
   "metadata": {
    "collapsed": false
   },
   "outputs": [
    {
     "data": {
      "text/html": [
       "<div>\n",
       "<table border=\"1\" class=\"dataframe\">\n",
       "  <thead>\n",
       "    <tr style=\"text-align: right;\">\n",
       "      <th></th>\n",
       "      <th>SerialNumber</th>\n",
       "      <th>File_names</th>\n",
       "    </tr>\n",
       "  </thead>\n",
       "  <tbody>\n",
       "    <tr>\n",
       "      <th>0</th>\n",
       "      <td>0</td>\n",
       "      <td>'Tanzania MDRTZ016 10Mar2015.txt',</td>\n",
       "    </tr>\n",
       "    <tr>\n",
       "      <th>1</th>\n",
       "      <td>1</td>\n",
       "      <td>'Somalia MDRSO003 24Apr2015.txt',</td>\n",
       "    </tr>\n",
       "    <tr>\n",
       "      <th>2</th>\n",
       "      <td>2</td>\n",
       "      <td>'Afghanistan MDRAF003 05Nov2015.txt',</td>\n",
       "    </tr>\n",
       "    <tr>\n",
       "      <th>3</th>\n",
       "      <td>3</td>\n",
       "      <td>'Philippines 0 18Dec2015.txt',</td>\n",
       "    </tr>\n",
       "    <tr>\n",
       "      <th>4</th>\n",
       "      <td>4</td>\n",
       "      <td>'Peru MAAPE002 01May2015.txt',</td>\n",
       "    </tr>\n",
       "  </tbody>\n",
       "</table>\n",
       "</div>"
      ],
      "text/plain": [
       "       SerialNumber                                       File_names\n",
       "0                          0      'Tanzania MDRTZ016 10Mar2015.txt',\n",
       "1                          1       'Somalia MDRSO003 24Apr2015.txt',\n",
       "2                          2   'Afghanistan MDRAF003 05Nov2015.txt',\n",
       "3                          3          'Philippines 0 18Dec2015.txt',\n",
       "4                          4          'Peru MAAPE002 01May2015.txt',"
      ]
     },
     "execution_count": 110,
     "metadata": {},
     "output_type": "execute_result"
    }
   ],
   "source": [
    "real_data.head()"
   ]
  },
  {
   "cell_type": "code",
   "execution_count": 112,
   "metadata": {
    "collapsed": false
   },
   "outputs": [
    {
     "data": {
      "text/plain": [
       "1261"
      ]
     },
     "execution_count": 112,
     "metadata": {},
     "output_type": "execute_result"
    }
   ],
   "source": [
    "len(real_data['File_names'])"
   ]
  },
  {
   "cell_type": "code",
   "execution_count": null,
   "metadata": {
    "collapsed": false
   },
   "outputs": [],
   "source": []
  },
  {
   "cell_type": "code",
   "execution_count": null,
   "metadata": {
    "collapsed": true
   },
   "outputs": [],
   "source": []
  },
  {
   "cell_type": "code",
   "execution_count": 120,
   "metadata": {
    "collapsed": false
   },
   "outputs": [
    {
     "name": "stdout",
     "output_type": "stream",
     "text": [
      "393\n"
     ]
    }
   ],
   "source": [
    "cnt = 0\n",
    "k =[]\n",
    "for i, f in enumerate(data[\"file.name\"]):\n",
    "    #print(i, f)\n",
    "    if f in real_data.File_names.values:\n",
    "        cnt += 1\n",
    "    k.append(cnt)     \n",
    "print(cnt)"
   ]
  },
  {
   "cell_type": "code",
   "execution_count": null,
   "metadata": {
    "collapsed": true
   },
   "outputs": [],
   "source": []
  },
  {
   "cell_type": "markdown",
   "metadata": {},
   "source": [
    "## Train data set"
   ]
  },
  {
   "cell_type": "markdown",
   "metadata": {
    "collapsed": true
   },
   "source": [
    "1.  The csv file  \"doc information all_s BIS_r2.csv\" has 25 features       for differents   3997  names of files.\n",
    "2.  Among 3997 reports, 404 are CTP files  and real reports downloaded      by R script are 393"
   ]
  },
  {
   "cell_type": "markdown",
   "metadata": {
    "collapsed": true
   },
   "source": [
    "### Due to the short time,  I didnt  extract entities from these files,  probably  It will be my next task after  submission of thesis. "
   ]
  },
  {
   "cell_type": "code",
   "execution_count": null,
   "metadata": {
    "collapsed": true
   },
   "outputs": [],
   "source": []
  },
  {
   "cell_type": "code",
   "execution_count": null,
   "metadata": {
    "collapsed": true
   },
   "outputs": [],
   "source": []
  },
  {
   "cell_type": "code",
   "execution_count": null,
   "metadata": {
    "collapsed": true
   },
   "outputs": [],
   "source": []
  },
  {
   "cell_type": "code",
   "execution_count": null,
   "metadata": {
    "collapsed": true
   },
   "outputs": [],
   "source": []
  },
  {
   "cell_type": "code",
   "execution_count": null,
   "metadata": {
    "collapsed": true
   },
   "outputs": [],
   "source": []
  },
  {
   "cell_type": "code",
   "execution_count": null,
   "metadata": {
    "collapsed": true
   },
   "outputs": [],
   "source": []
  },
  {
   "cell_type": "code",
   "execution_count": null,
   "metadata": {
    "collapsed": true
   },
   "outputs": [],
   "source": []
  },
  {
   "cell_type": "code",
   "execution_count": null,
   "metadata": {
    "collapsed": true
   },
   "outputs": [],
   "source": []
  }
 ],
 "metadata": {
  "kernelspec": {
   "display_name": "Python 3",
   "language": "python",
   "name": "python3"
  },
  "language_info": {
   "codemirror_mode": {
    "name": "ipython",
    "version": 3
   },
   "file_extension": ".py",
   "mimetype": "text/x-python",
   "name": "python",
   "nbconvert_exporter": "python",
   "pygments_lexer": "ipython3",
   "version": "3.4.3"
  }
 },
 "nbformat": 4,
 "nbformat_minor": 2
}
